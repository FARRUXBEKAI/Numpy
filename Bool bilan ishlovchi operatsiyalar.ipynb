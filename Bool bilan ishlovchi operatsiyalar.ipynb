{
 "cells": [
  {
   "cell_type": "markdown",
   "id": "e9086052",
   "metadata": {},
   "source": [
    "# 8/09/2022\n",
    "\n",
    "# Numpy\n",
    "\n",
    "\n",
    "# Muallif: Farrux Sotivoldiyev"
   ]
  },
  {
   "cell_type": "markdown",
   "id": "f2205693",
   "metadata": {},
   "source": [
    "# Bool bilan ishlovchi operatsiyalar\n",
    "\n",
    "* `& - va` - Ikalasi ham True bo'lgandagina True aks holda False\n",
    "* `| - yoki` - Ikalasidan biri yoki ikalasi ham True bo'lgandagina True aks holda False\n",
    "* `^ - xor` - Ikalasi ham bir xil bool(True-True or False-False) bo'lgandagina False aks holda True\n",
    "* `~ - nor` - Inkor vazifasini bajaradi\n",
    "* `>> - o'ngga surish` - o'ngga n suriladi va sonimiz manfiy bolsa orqadan shuncha 1lar qo'shiladi,musbat bo'lsa 0\n",
    "* `<< - chapga surish` - chapga n suriladi va orqadan 0 lar qo'shiladi"
   ]
  },
  {
   "cell_type": "markdown",
   "id": "83ba939e",
   "metadata": {},
   "source": [
    "**`Numpy kutubxonasini chaqirib olamiz`**"
   ]
  },
  {
   "cell_type": "code",
   "execution_count": 2,
   "id": "d2a47f44",
   "metadata": {},
   "outputs": [],
   "source": [
    "import numpy as np"
   ]
  },
  {
   "cell_type": "code",
   "execution_count": 3,
   "id": "c73834a6",
   "metadata": {},
   "outputs": [],
   "source": [
    "np_15 = np.array([True,False,True,False])\n",
    "np_16 = np.array([False,False,True,True])"
   ]
  },
  {
   "cell_type": "code",
   "execution_count": 4,
   "id": "0f97ba2d",
   "metadata": {},
   "outputs": [
    {
     "data": {
      "text/plain": [
       "array([False, False,  True, False])"
      ]
     },
     "execution_count": 4,
     "metadata": {},
     "output_type": "execute_result"
    }
   ],
   "source": [
    "np_15 & np_16"
   ]
  },
  {
   "cell_type": "code",
   "execution_count": 5,
   "id": "0cb3e8f2",
   "metadata": {},
   "outputs": [
    {
     "data": {
      "text/plain": [
       "array([ True, False,  True,  True])"
      ]
     },
     "execution_count": 5,
     "metadata": {},
     "output_type": "execute_result"
    }
   ],
   "source": [
    "np_15 | np_16"
   ]
  },
  {
   "cell_type": "code",
   "execution_count": 6,
   "id": "2d218e36",
   "metadata": {},
   "outputs": [
    {
     "data": {
      "text/plain": [
       "array([ True, False, False,  True])"
      ]
     },
     "execution_count": 6,
     "metadata": {},
     "output_type": "execute_result"
    }
   ],
   "source": [
    "np_15 ^ np_16"
   ]
  },
  {
   "cell_type": "code",
   "execution_count": 7,
   "id": "c5531c00",
   "metadata": {},
   "outputs": [
    {
     "data": {
      "text/plain": [
       "array([False,  True, False,  True])"
      ]
     },
     "execution_count": 7,
     "metadata": {},
     "output_type": "execute_result"
    }
   ],
   "source": [
    "~ np_15"
   ]
  },
  {
   "cell_type": "code",
   "execution_count": 8,
   "id": "0724bc15",
   "metadata": {},
   "outputs": [
    {
     "name": "stdout",
     "output_type": "stream",
     "text": [
      "[[1 2]\n",
      " [3 4]]\n",
      "\n",
      "[[3 4]\n",
      " [2 1]]\n"
     ]
    }
   ],
   "source": [
    "np_15 = np.array([1,2,3,4]).reshape(2,2)\n",
    "np_16 = np.array([3,4,2,1]).reshape(2,2)\n",
    "print(np_15)\n",
    "print()\n",
    "print(np_16)"
   ]
  },
  {
   "cell_type": "markdown",
   "id": "61c9b89c",
   "metadata": {},
   "source": [
    "* `bu amallarni sonlar ustida bajarish uchun oldin ikkilikka o'tqaziladi va belgi(&|^~) bo'yicha amallar bajariladi.`"
   ]
  },
  {
   "cell_type": "code",
   "execution_count": 9,
   "id": "6680af64",
   "metadata": {},
   "outputs": [
    {
     "data": {
      "text/plain": [
       "array([[1, 0],\n",
       "       [2, 0]])"
      ]
     },
     "execution_count": 9,
     "metadata": {},
     "output_type": "execute_result"
    }
   ],
   "source": [
    "np_15 & np_16 "
   ]
  },
  {
   "cell_type": "code",
   "execution_count": 10,
   "id": "9d2927c7",
   "metadata": {},
   "outputs": [
    {
     "data": {
      "text/plain": [
       "array([[3, 6],\n",
       "       [3, 5]])"
      ]
     },
     "execution_count": 10,
     "metadata": {},
     "output_type": "execute_result"
    }
   ],
   "source": [
    "np_15 | np_16 "
   ]
  },
  {
   "cell_type": "code",
   "execution_count": 11,
   "id": "d7dd7e67",
   "metadata": {},
   "outputs": [
    {
     "data": {
      "text/plain": [
       "array([[2, 6],\n",
       "       [1, 5]])"
      ]
     },
     "execution_count": 11,
     "metadata": {},
     "output_type": "execute_result"
    }
   ],
   "source": [
    "np_15 ^ np_16 "
   ]
  },
  {
   "cell_type": "code",
   "execution_count": 12,
   "id": "4fd72449",
   "metadata": {},
   "outputs": [
    {
     "data": {
      "text/plain": [
       "array([[-4, -5],\n",
       "       [-3, -2]])"
      ]
     },
     "execution_count": 12,
     "metadata": {},
     "output_type": "execute_result"
    }
   ],
   "source": [
    "~ np_16 "
   ]
  },
  {
   "cell_type": "markdown",
   "id": "af43d428",
   "metadata": {},
   "source": [
    "**` Surish:`**\n",
    "* 1.o'ng tomonga 2 surishda o'ng tomondan 2ta xonasini olib tashlanadi va va chap tarafdan shuncha 0 lar qo'shiladi \n",
    "* 2.chap tomonga 2 surishda chap tomondan 2ta xonasini olib tashlanadi va va ong tarafdan shuncha 0 lar qo'shiladi"
   ]
  },
  {
   "cell_type": "markdown",
   "id": "7db1bf6b",
   "metadata": {},
   "source": [
    "**`Istisno holat:`**\n",
    "* `Manfiy sonlarni o'ng tomonga surishda orqqasidan 1 lar qo'shiladi,qolgan xollarda har doim 0 lar qo'shiladi` "
   ]
  },
  {
   "cell_type": "code",
   "execution_count": 13,
   "id": "99c9b817",
   "metadata": {},
   "outputs": [
    {
     "data": {
      "text/plain": [
       "array([[0, 1],\n",
       "       [0, 0]], dtype=int32)"
      ]
     },
     "execution_count": 13,
     "metadata": {},
     "output_type": "execute_result"
    }
   ],
   "source": [
    "np_16 >> 2"
   ]
  },
  {
   "cell_type": "code",
   "execution_count": 14,
   "id": "c8acb622",
   "metadata": {},
   "outputs": [
    {
     "data": {
      "text/plain": [
       "array([[24, 32],\n",
       "       [16,  8]], dtype=int32)"
      ]
     },
     "execution_count": 14,
     "metadata": {},
     "output_type": "execute_result"
    }
   ],
   "source": [
    "np_16 << 3"
   ]
  },
  {
   "cell_type": "code",
   "execution_count": 15,
   "id": "a8ee6025",
   "metadata": {},
   "outputs": [
    {
     "data": {
      "text/plain": [
       "array([[-1, -2],\n",
       "       [-1, -1]], dtype=int32)"
      ]
     },
     "execution_count": 15,
     "metadata": {},
     "output_type": "execute_result"
    }
   ],
   "source": [
    "(~ np_16) >> 2 "
   ]
  },
  {
   "cell_type": "markdown",
   "id": "a42438c7",
   "metadata": {},
   "source": [
    "# Where mantiqiy funksiyasi.\n",
    "* np.where(condition,x,y)\n",
    "\n",
    "* Where ning ishlashi - u conditiondan qaytgan True va False ga qarab ishlaydi.Agar True qaytsa birinchi yozilganini False qaytsa ikkinchi yozilganidan mos indexdagi qiymatni oladi   \n",
    "\n",
    "* Faqat condition kiritilsa index qaytaradi\n",
    "\n",
    "* Conditionda True va False qiymatga ega list hz lar bo'ladi ya'ni list shape np_17 va np_18 ni shape lariga teng bo'lishi kerak\n",
    "\n",
    "* Bitta True yoki bitta False bo'lsa unga mos qiymatni hammasini oladi"
   ]
  },
  {
   "cell_type": "markdown",
   "id": "490ac760",
   "metadata": {},
   "source": [
    "**`1D array bilan ishlash`**"
   ]
  },
  {
   "cell_type": "code",
   "execution_count": 17,
   "id": "d97e913d",
   "metadata": {},
   "outputs": [],
   "source": [
    "np_17 = np.array([1,2,3,4])\n",
    "np_18 = np.array([3,4,2,1])"
   ]
  },
  {
   "cell_type": "code",
   "execution_count": 18,
   "id": "3202db62",
   "metadata": {},
   "outputs": [
    {
     "data": {
      "text/plain": [
       "array([3, 4, 3, 4])"
      ]
     },
     "execution_count": 18,
     "metadata": {},
     "output_type": "execute_result"
    }
   ],
   "source": [
    "np.where(np_17>np_18,np_17,np_18)"
   ]
  },
  {
   "cell_type": "code",
   "execution_count": 19,
   "id": "a14ac4e4",
   "metadata": {},
   "outputs": [
    {
     "data": {
      "text/plain": [
       "(array([2, 3], dtype=int64),)"
      ]
     },
     "execution_count": 19,
     "metadata": {},
     "output_type": "execute_result"
    }
   ],
   "source": [
    "np.where(np_17>np_18)"
   ]
  },
  {
   "cell_type": "code",
   "execution_count": 20,
   "id": "c35572c2",
   "metadata": {},
   "outputs": [],
   "source": [
    "np_15 = np.array([True,False,True,False])\n",
    "np_17 = np.array([1,2,3,4])\n",
    "np_18 = np.array([3,4,2,1])"
   ]
  },
  {
   "cell_type": "code",
   "execution_count": 21,
   "id": "8f05eb71",
   "metadata": {},
   "outputs": [
    {
     "data": {
      "text/plain": [
       "array([1, 4, 3, 1])"
      ]
     },
     "execution_count": 21,
     "metadata": {},
     "output_type": "execute_result"
    }
   ],
   "source": [
    "np.where(np_15,np_17,np_18)"
   ]
  },
  {
   "cell_type": "markdown",
   "id": "022bbaa5",
   "metadata": {},
   "source": [
    "* Agar conditionga bitta bool yozsak shu qiymatga qarab np_17 yoki np_18 ni barcha elementini oladi"
   ]
  },
  {
   "cell_type": "code",
   "execution_count": 22,
   "id": "8d5e3ad5",
   "metadata": {},
   "outputs": [
    {
     "data": {
      "text/plain": [
       "array([1, 2, 3, 4])"
      ]
     },
     "execution_count": 22,
     "metadata": {},
     "output_type": "execute_result"
    }
   ],
   "source": [
    "np.where(True,np_17,np_18)"
   ]
  },
  {
   "cell_type": "code",
   "execution_count": 23,
   "id": "9f2eb887",
   "metadata": {},
   "outputs": [
    {
     "data": {
      "text/plain": [
       "array([3, 4, 2, 1])"
      ]
     },
     "execution_count": 23,
     "metadata": {},
     "output_type": "execute_result"
    }
   ],
   "source": [
    "np.where(False,np_17,np_18)"
   ]
  },
  {
   "cell_type": "markdown",
   "id": "65eb6650",
   "metadata": {},
   "source": [
    "* Ichidagi elementi str bo'lsa ularni solishtirishda ASCII jadvalidagi o'rni bo'yicha solishtiriladi va qaytgan bool ga qarab np_17 yoki np_18 dan o'sha indexdagi elementini oladi"
   ]
  },
  {
   "cell_type": "code",
   "execution_count": 24,
   "id": "5753af5c",
   "metadata": {},
   "outputs": [],
   "source": [
    "np_17 = np.array(['salom','iltimos','gilos'])\n",
    "np_18 = np.array(['hello','valaykum','qalesan'])"
   ]
  },
  {
   "cell_type": "code",
   "execution_count": 25,
   "id": "641ce948",
   "metadata": {},
   "outputs": [
    {
     "data": {
      "text/plain": [
       "array(['salom', 'valaykum', 'qalesan'], dtype='<U8')"
      ]
     },
     "execution_count": 25,
     "metadata": {},
     "output_type": "execute_result"
    }
   ],
   "source": [
    "np.where(np_17>np_18,np_17,np_18)"
   ]
  },
  {
   "cell_type": "markdown",
   "id": "423a6a79",
   "metadata": {},
   "source": [
    "**`2D array bilan ishlash`**"
   ]
  },
  {
   "cell_type": "code",
   "execution_count": 26,
   "id": "c7307bfe",
   "metadata": {},
   "outputs": [
    {
     "name": "stdout",
     "output_type": "stream",
     "text": [
      "[[2 3 0]\n",
      " [9 4 8]]\n",
      "--------------\n",
      "[[ 1  6 11]\n",
      " [10  5  7]]\n"
     ]
    }
   ],
   "source": [
    "np_17 = np.array([2,3,0,9,4,8]).reshape(2,3)\n",
    "np_18 = np.array([1,6,11,10,5,7]).reshape(2,3)\n",
    "print(np_17)\n",
    "print(\"--------------\")\n",
    "print(np_18)"
   ]
  },
  {
   "cell_type": "code",
   "execution_count": 27,
   "id": "1f8996f6",
   "metadata": {},
   "outputs": [
    {
     "data": {
      "text/plain": [
       "array([[3, 4, 9],\n",
       "       [8, 3, 5]])"
      ]
     },
     "execution_count": 27,
     "metadata": {},
     "output_type": "execute_result"
    }
   ],
   "source": [
    "np.where((np_17//np_18)>1,np_17+1,np_18-2)"
   ]
  },
  {
   "cell_type": "markdown",
   "id": "c8a26ff4",
   "metadata": {},
   "source": [
    "**`3D array bilan ishlash`**"
   ]
  },
  {
   "cell_type": "code",
   "execution_count": 28,
   "id": "0af15d29",
   "metadata": {},
   "outputs": [
    {
     "name": "stdout",
     "output_type": "stream",
     "text": [
      "[[[ 0  1  2]\n",
      "  [ 3  4  5]\n",
      "  [ 6  7  8]]\n",
      "\n",
      " [[ 9 10 11]\n",
      "  [12 13 14]\n",
      "  [15 16 17]]\n",
      "\n",
      " [[18 19 20]\n",
      "  [21 22 23]\n",
      "  [24 25 26]]]\n",
      "--------------\n",
      "[[[28 29 30]\n",
      "  [31 32 33]\n",
      "  [34 35 36]]\n",
      "\n",
      " [[37 38 39]\n",
      "  [40 41 42]\n",
      "  [43 44 45]]\n",
      "\n",
      " [[46 47 48]\n",
      "  [49 50 51]\n",
      "  [52 53 54]]]\n"
     ]
    }
   ],
   "source": [
    "np_17 = np.arange(0,27).reshape(3,3,3)\n",
    "np_18 = np.arange(28,55).reshape(3,3,3)\n",
    "print(np_17)\n",
    "print(\"--------------\")\n",
    "print(np_18)"
   ]
  },
  {
   "cell_type": "code",
   "execution_count": 29,
   "id": "199ce489",
   "metadata": {},
   "outputs": [
    {
     "data": {
      "text/plain": [
       "array([[[28, 29, 30],\n",
       "        [31, 32, 33],\n",
       "        [34, 35, 36]],\n",
       "\n",
       "       [[37, 38, 39],\n",
       "        [40, 41, 42],\n",
       "        [43, 44, 45]],\n",
       "\n",
       "       [[46, 47, 48],\n",
       "        [49, 50, 51],\n",
       "        [52, 53, 54]]])"
      ]
     },
     "execution_count": 29,
     "metadata": {},
     "output_type": "execute_result"
    }
   ],
   "source": [
    "np.where(np_17>np_18,np_17,np_18)"
   ]
  },
  {
   "cell_type": "markdown",
   "id": "93531050",
   "metadata": {},
   "source": [
    "**`Ozimiz class yaratib where da qo'llash`**"
   ]
  },
  {
   "cell_type": "code",
   "execution_count": 30,
   "id": "f56dc272",
   "metadata": {},
   "outputs": [],
   "source": [
    "class Math:\n",
    "    def __init__(self,massiv):\n",
    "        self.massiv = massiv\n",
    "        \n",
    "    def __lt__(self,other):\n",
    "        return self.massiv < other.massiv\n",
    "    \n",
    "    def __eq__(self,other):\n",
    "        return self.massiv == other.massiv\n",
    "    \n",
    "    def __le__(self,other):\n",
    "        return self.massiv <= other.massiv\n",
    "    \n",
    "    def __add__(self,other):\n",
    "        return self.massiv + other.massiv"
   ]
  },
  {
   "cell_type": "code",
   "execution_count": 31,
   "id": "c917f98c",
   "metadata": {},
   "outputs": [],
   "source": [
    "x = Math(np_17)\n",
    "y = Math(np_18)"
   ]
  },
  {
   "cell_type": "code",
   "execution_count": 32,
   "id": "5463e1da",
   "metadata": {},
   "outputs": [
    {
     "data": {
      "text/plain": [
       "array([[[28, 29, 30],\n",
       "        [31, 32, 33],\n",
       "        [34, 35, 36]],\n",
       "\n",
       "       [[37, 38, 39],\n",
       "        [40, 41, 42],\n",
       "        [43, 44, 45]],\n",
       "\n",
       "       [[46, 47, 48],\n",
       "        [49, 50, 51],\n",
       "        [52, 53, 54]]])"
      ]
     },
     "execution_count": 32,
     "metadata": {},
     "output_type": "execute_result"
    }
   ],
   "source": [
    "np.where(x>y,np_17,np_18)"
   ]
  },
  {
   "cell_type": "code",
   "execution_count": 33,
   "id": "de9aee97",
   "metadata": {
    "scrolled": true
   },
   "outputs": [
    {
     "data": {
      "text/plain": [
       "array([[[ 1,  2,  3],\n",
       "        [ 4,  5,  6],\n",
       "        [ 7,  8,  9]],\n",
       "\n",
       "       [[10, 11, 12],\n",
       "        [13, 14, 15],\n",
       "        [16, 17, 18]],\n",
       "\n",
       "       [[19, 20, 21],\n",
       "        [22, 23, 24],\n",
       "        [25, 26, 27]]])"
      ]
     },
     "execution_count": 33,
     "metadata": {},
     "output_type": "execute_result"
    }
   ],
   "source": [
    "np.where((x+y)%2==0,np_17+1,np_18)"
   ]
  }
 ],
 "metadata": {
  "kernelspec": {
   "display_name": "Python 3 (ipykernel)",
   "language": "python",
   "name": "python3"
  },
  "language_info": {
   "codemirror_mode": {
    "name": "ipython",
    "version": 3
   },
   "file_extension": ".py",
   "mimetype": "text/x-python",
   "name": "python",
   "nbconvert_exporter": "python",
   "pygments_lexer": "ipython3",
   "version": "3.9.8"
  }
 },
 "nbformat": 4,
 "nbformat_minor": 5
}
