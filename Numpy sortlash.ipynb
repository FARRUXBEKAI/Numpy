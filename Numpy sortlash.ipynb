{
 "cells": [
  {
   "cell_type": "markdown",
   "id": "95dec23f",
   "metadata": {},
   "source": [
    "# Numpy sortlash\n",
    "* x.sort() - massivni o'zini sortlab tashlaydi(sort by python)\n",
    "* np.sort(x) - sortlab javob qaytaradi(sorted by python)\n",
    "* *`Sort funksiyasi faqat axeslar bo'yicha ishlaydi`*"
   ]
  },
  {
   "cell_type": "markdown",
   "id": "83ba939e",
   "metadata": {},
   "source": [
    "**`Numpy kutubxonasini chaqirib olamiz`**"
   ]
  },
  {
   "cell_type": "code",
   "execution_count": 2,
   "id": "d2a47f44",
   "metadata": {},
   "outputs": [],
   "source": [
    "import numpy as np"
   ]
  },
  {
   "cell_type": "code",
   "execution_count": 21,
   "id": "d77266bf",
   "metadata": {},
   "outputs": [
    {
     "data": {
      "text/plain": [
       "array([[[1, 2, 3],\n",
       "        [2, 2, 4]],\n",
       "\n",
       "       [[3, 2, 3],\n",
       "        [4, 3, 2]],\n",
       "\n",
       "       [[4, 3, 4],\n",
       "        [3, 2, 1]]])"
      ]
     },
     "execution_count": 21,
     "metadata": {},
     "output_type": "execute_result"
    }
   ],
   "source": [
    "np_3 = np.random.randint(1,5,size=(3,2,3))\n",
    "np_3"
   ]
  },
  {
   "cell_type": "code",
   "execution_count": 22,
   "id": "dc1ec0ab",
   "metadata": {},
   "outputs": [
    {
     "data": {
      "text/plain": [
       "array([[[1, 2, 3],\n",
       "        [2, 2, 4]],\n",
       "\n",
       "       [[2, 3, 3],\n",
       "        [2, 3, 4]],\n",
       "\n",
       "       [[3, 4, 4],\n",
       "        [1, 2, 3]]])"
      ]
     },
     "execution_count": 22,
     "metadata": {},
     "output_type": "execute_result"
    }
   ],
   "source": [
    "np_4 = np_3.copy()\n",
    "np_4.sort()\n",
    "np_4"
   ]
  },
  {
   "cell_type": "code",
   "execution_count": 23,
   "id": "cb13a956",
   "metadata": {},
   "outputs": [
    {
     "data": {
      "text/plain": [
       "array([[[1, 2, 3],\n",
       "        [2, 2, 4]],\n",
       "\n",
       "       [[2, 3, 3],\n",
       "        [2, 3, 4]],\n",
       "\n",
       "       [[3, 4, 4],\n",
       "        [1, 2, 3]]])"
      ]
     },
     "execution_count": 23,
     "metadata": {},
     "output_type": "execute_result"
    }
   ],
   "source": [
    "np.sort(np_3) # default holati satrni ichidagi elementlari bo'yicha saralaydi"
   ]
  },
  {
   "cell_type": "code",
   "execution_count": 24,
   "id": "4257b566",
   "metadata": {},
   "outputs": [
    {
     "data": {
      "text/plain": [
       "array([[[1, 2, 3],\n",
       "        [2, 2, 1]],\n",
       "\n",
       "       [[3, 2, 3],\n",
       "        [3, 2, 2]],\n",
       "\n",
       "       [[4, 3, 4],\n",
       "        [4, 3, 4]]])"
      ]
     },
     "execution_count": 24,
     "metadata": {},
     "output_type": "execute_result"
    }
   ],
   "source": [
    "np.sort(np_3,axis=0) # element turgan o'rni bo'yicha"
   ]
  },
  {
   "cell_type": "code",
   "execution_count": 26,
   "id": "3f0d805a",
   "metadata": {
    "scrolled": false
   },
   "outputs": [
    {
     "data": {
      "text/plain": [
       "array([[[1, 2, 3],\n",
       "        [2, 2, 4]],\n",
       "\n",
       "       [[3, 2, 2],\n",
       "        [4, 3, 3]],\n",
       "\n",
       "       [[3, 2, 1],\n",
       "        [4, 3, 4]]])"
      ]
     },
     "execution_count": 26,
     "metadata": {},
     "output_type": "execute_result"
    }
   ],
   "source": [
    "np.sort(np_3,axis=1) #satrlarning ustunlari bo'yicha saralaydi"
   ]
  }
 ],
 "metadata": {
  "kernelspec": {
   "display_name": "Python 3 (ipykernel)",
   "language": "python",
   "name": "python3"
  },
  "language_info": {
   "codemirror_mode": {
    "name": "ipython",
    "version": 3
   },
   "file_extension": ".py",
   "mimetype": "text/x-python",
   "name": "python",
   "nbconvert_exporter": "python",
   "pygments_lexer": "ipython3",
   "version": "3.9.8"
  }
 },
 "nbformat": 4,
 "nbformat_minor": 5
}
