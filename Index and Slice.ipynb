{
 "cells": [
  {
   "cell_type": "markdown",
   "id": "d71d6c87",
   "metadata": {},
   "source": [
    "# 8/09/2022\n",
    "\n",
    "# Numpy\n",
    "\n",
    "\n",
    "# Muallif: Farrux Sotivoldiyev"
   ]
  },
  {
   "cell_type": "markdown",
   "id": "a873a333",
   "metadata": {},
   "source": [
    "# Index and Slice"
   ]
  },
  {
   "cell_type": "markdown",
   "id": "b7398b13",
   "metadata": {},
   "source": [
    "**`Numpy kutubxonasini chaqirib olamiz`**"
   ]
  },
  {
   "cell_type": "code",
   "execution_count": 1,
   "id": "d2a47f44",
   "metadata": {},
   "outputs": [],
   "source": [
    "import numpy as np"
   ]
  },
  {
   "cell_type": "code",
   "execution_count": 18,
   "id": "46093891",
   "metadata": {},
   "outputs": [],
   "source": [
    "np_1d = np.array([1,2,3,4])\n",
    "np_2d = np.arange(12).reshape(3,4)\n",
    "np_3d = (np.arange(18).reshape(3,2,3),1)"
   ]
  },
  {
   "cell_type": "code",
   "execution_count": 96,
   "id": "a7898f6e",
   "metadata": {},
   "outputs": [
    {
     "data": {
      "text/plain": [
       "array([1, 2, 3, 4])"
      ]
     },
     "execution_count": 96,
     "metadata": {},
     "output_type": "execute_result"
    }
   ],
   "source": [
    "np_1d"
   ]
  },
  {
   "cell_type": "code",
   "execution_count": 97,
   "id": "58abacfc",
   "metadata": {},
   "outputs": [
    {
     "data": {
      "text/plain": [
       "2"
      ]
     },
     "execution_count": 97,
     "metadata": {},
     "output_type": "execute_result"
    }
   ],
   "source": [
    "np_1d[1]"
   ]
  },
  {
   "cell_type": "code",
   "execution_count": 102,
   "id": "d0bb6ceb",
   "metadata": {},
   "outputs": [
    {
     "data": {
      "text/plain": [
       "array([[ 0,  1,  2,  3],\n",
       "       [ 4,  5,  6,  7],\n",
       "       [ 8,  9, 10, 11]])"
      ]
     },
     "execution_count": 102,
     "metadata": {},
     "output_type": "execute_result"
    }
   ],
   "source": [
    "np_2d"
   ]
  },
  {
   "cell_type": "code",
   "execution_count": 105,
   "id": "f27849ee",
   "metadata": {},
   "outputs": [
    {
     "data": {
      "text/plain": [
       "array([[1, 2, 3],\n",
       "       [5, 6, 7]])"
      ]
     },
     "execution_count": 105,
     "metadata": {},
     "output_type": "execute_result"
    }
   ],
   "source": [
    "np_2d[:2,1:]"
   ]
  },
  {
   "cell_type": "code",
   "execution_count": 26,
   "id": "0aea9cf7",
   "metadata": {},
   "outputs": [
    {
     "data": {
      "text/plain": [
       "array([[[ 0,  1,  2],\n",
       "        [ 3,  4,  5]],\n",
       "\n",
       "       [[ 6,  7,  8],\n",
       "        [ 9, 10, 11]],\n",
       "\n",
       "       [[12, 13, 14],\n",
       "        [15, 16, 17]]])"
      ]
     },
     "execution_count": 26,
     "metadata": {},
     "output_type": "execute_result"
    }
   ],
   "source": [
    "np_3d[0]"
   ]
  },
  {
   "cell_type": "code",
   "execution_count": 27,
   "id": "73bf698a",
   "metadata": {},
   "outputs": [
    {
     "data": {
      "text/plain": [
       "array([[[12, 13, 14],\n",
       "        [15, 16, 17]]])"
      ]
     },
     "execution_count": 27,
     "metadata": {},
     "output_type": "execute_result"
    }
   ],
   "source": [
    "np_3d[0][2:]"
   ]
  },
  {
   "cell_type": "code",
   "execution_count": 107,
   "id": "2ec487e6",
   "metadata": {},
   "outputs": [
    {
     "data": {
      "text/plain": [
       "array([[ 7,  8],\n",
       "       [10, 11]])"
      ]
     },
     "execution_count": 107,
     "metadata": {},
     "output_type": "execute_result"
    }
   ],
   "source": [
    "np_3d[1,:,1:]"
   ]
  },
  {
   "cell_type": "code",
   "execution_count": 108,
   "id": "014795a4",
   "metadata": {},
   "outputs": [
    {
     "data": {
      "text/plain": [
       "array([[13, 14],\n",
       "       [16, 17]])"
      ]
     },
     "execution_count": 108,
     "metadata": {},
     "output_type": "execute_result"
    }
   ],
   "source": [
    "np_3d[2,:,1:]"
   ]
  },
  {
   "cell_type": "markdown",
   "id": "81cdc4e7",
   "metadata": {},
   "source": [
    "**` Copy - slice bilan copy qilganimizda ID lari bir xil bo'lib qoladi.Bu tafsiya qilinmaydi deepcopy yoki asarray yordamida copy qilish kerak.`**"
   ]
  },
  {
   "cell_type": "code",
   "execution_count": 1,
   "id": "24f70af0",
   "metadata": {},
   "outputs": [
    {
     "data": {
      "text/plain": [
       "array([[2, 7, 2, 6, 7, 2, 2, 7, 3, 3],\n",
       "       [4, 3, 8, 1, 1, 4, 8, 2, 5, 6],\n",
       "       [8, 6, 0, 0, 0, 0, 0, 0, 5, 2],\n",
       "       [1, 6, 0, 0, 0, 0, 0, 0, 7, 7],\n",
       "       [3, 1, 0, 0, 0, 0, 0, 0, 7, 7],\n",
       "       [6, 1, 0, 0, 0, 0, 0, 0, 5, 1],\n",
       "       [4, 2, 0, 0, 0, 0, 0, 0, 3, 6],\n",
       "       [6, 8, 0, 0, 0, 0, 0, 0, 5, 3],\n",
       "       [6, 5, 2, 2, 3, 8, 3, 1, 4, 8],\n",
       "       [6, 6, 4, 7, 2, 6, 5, 7, 3, 5]])"
      ]
     },
     "execution_count": 1,
     "metadata": {},
     "output_type": "execute_result"
    }
   ],
   "source": [
    "import numpy as np\n",
    "x = np.random.randint(1,9,size=(10,10))\n",
    "x[2:8,2:8]=0\n",
    "x"
   ]
  }
 ],
 "metadata": {
  "kernelspec": {
   "display_name": "Python 3 (ipykernel)",
   "language": "python",
   "name": "python3"
  },
  "language_info": {
   "codemirror_mode": {
    "name": "ipython",
    "version": 3
   },
   "file_extension": ".py",
   "mimetype": "text/x-python",
   "name": "python",
   "nbconvert_exporter": "python",
   "pygments_lexer": "ipython3",
   "version": "3.9.8"
  }
 },
 "nbformat": 4,
 "nbformat_minor": 5
}
