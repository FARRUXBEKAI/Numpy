{
 "cells": [
  {
   "cell_type": "markdown",
   "id": "a8fc5bb4",
   "metadata": {},
   "source": [
    "# 8/09/2022\n",
    "\n",
    "# Numpy\n",
    "\n",
    "\n",
    "# Muallif: Farrux Sotivoldiyev"
   ]
  },
  {
   "cell_type": "markdown",
   "id": "180c3d59",
   "metadata": {},
   "source": [
    "# Numpy array yaratish\n",
    "* np.array\n",
    "* np.asarray\n",
    "* np.arange\n",
    "* np.ones\n",
    "* np.ones_like\n",
    "* np.zeros\n",
    "* np.zeros_like\n",
    "* np.full\n",
    "* np.full_like\n",
    "* np.empty\n",
    "* np.empty_like\n",
    "* np.eye\n",
    "* np.identity\n",
    "* np.random.(randint,rand,randn)"
   ]
  },
  {
   "cell_type": "markdown",
   "id": "c175246a",
   "metadata": {},
   "source": [
    "**`Numpy kutubxonasini chaqirib olamiz`**"
   ]
  },
  {
   "cell_type": "code",
   "execution_count": 1,
   "id": "d2a47f44",
   "metadata": {},
   "outputs": [],
   "source": [
    "import numpy as np"
   ]
  },
  {
   "cell_type": "markdown",
   "id": "e65efba5",
   "metadata": {},
   "source": [
    "**`Xar hil pithon listlari,tuple,dict,set larini yaratib oldik`**"
   ]
  },
  {
   "cell_type": "code",
   "execution_count": 2,
   "id": "916df805",
   "metadata": {},
   "outputs": [
    {
     "name": "stdout",
     "output_type": "stream",
     "text": [
      "<class 'list'>\n",
      "<class 'list'>\n",
      "<class 'list'>\n",
      "<class 'tuple'>\n",
      "<class 'dict'>\n",
      "<class 'set'>\n"
     ]
    }
   ],
   "source": [
    "x_list = [3,4,5,11,9,2]\n",
    "x_matrix_kv = [[12,3,5,4],[3,9,0,4],[4,8,6,1],[1,8,4,7]]\n",
    "x_matrix3X4 = [[3,5,4,6],[3,9,0,4],[4,8,6,9]]\n",
    "x_tuple = (1,5,8,0,2,3345,6778,8989,9)\n",
    "x_dict = {\"a\":5,\"b\":\"salom\",\"c\":7,\"d\":0}\n",
    "x_set = {2,3,456,78,9,0,2,44,5,7,8,9,4,2}\n",
    "\n",
    "\n",
    "print(type(x_list))\n",
    "print(type(x_matrix_kv))\n",
    "print(type(x_matrix3X4))\n",
    "print(type(x_tuple))\n",
    "print(type(x_dict))\n",
    "print(type(x_set))"
   ]
  },
  {
   "cell_type": "markdown",
   "id": "074d0780",
   "metadata": {},
   "source": [
    "**`np.array()`** - pithon dagi barcha iteratsiya obyektlarini ndarray ga o'tqazadi"
   ]
  },
  {
   "cell_type": "code",
   "execution_count": 3,
   "id": "bf62c7d2",
   "metadata": {},
   "outputs": [
    {
     "name": "stdout",
     "output_type": "stream",
     "text": [
      "[ 1.    3.   46.   77.89 40.    9.  ]\n"
     ]
    },
    {
     "data": {
      "text/plain": [
       "numpy.ndarray"
      ]
     },
     "execution_count": 3,
     "metadata": {},
     "output_type": "execute_result"
    }
   ],
   "source": [
    "np_list1 = np.array((1,3,46,77.89,40,9))\n",
    "print(np_list1)\n",
    "type(np_list1)"
   ]
  },
  {
   "cell_type": "code",
   "execution_count": 4,
   "id": "c2ae8df6",
   "metadata": {},
   "outputs": [
    {
     "name": "stdout",
     "output_type": "stream",
     "text": [
      "[ 3  4  5 11  9  2]\n"
     ]
    },
    {
     "data": {
      "text/plain": [
       "numpy.ndarray"
      ]
     },
     "execution_count": 4,
     "metadata": {},
     "output_type": "execute_result"
    }
   ],
   "source": [
    "np_list2 = np.array(x_list)\n",
    "print(np_list2)\n",
    "type(np_list2)"
   ]
  },
  {
   "cell_type": "code",
   "execution_count": 5,
   "id": "20e39a61",
   "metadata": {},
   "outputs": [
    {
     "name": "stdout",
     "output_type": "stream",
     "text": [
      "[   1    5    8    0    2 3345 6778 8989    9]\n"
     ]
    },
    {
     "data": {
      "text/plain": [
       "numpy.ndarray"
      ]
     },
     "execution_count": 5,
     "metadata": {},
     "output_type": "execute_result"
    }
   ],
   "source": [
    "np_list3 = np.array(x_tuple)\n",
    "print(np_list3)\n",
    "type(np_list3)"
   ]
  },
  {
   "cell_type": "code",
   "execution_count": 6,
   "id": "36ddd495",
   "metadata": {},
   "outputs": [
    {
     "name": "stdout",
     "output_type": "stream",
     "text": [
      "{'a': 5, 'b': 'salom', 'c': 7, 'd': 0}\n"
     ]
    },
    {
     "data": {
      "text/plain": [
       "numpy.ndarray"
      ]
     },
     "execution_count": 6,
     "metadata": {},
     "output_type": "execute_result"
    }
   ],
   "source": [
    "np_list4 = np.array(x_dict)\n",
    "print(np_list4)\n",
    "type(np_list4)"
   ]
  },
  {
   "cell_type": "code",
   "execution_count": 7,
   "id": "be342b87",
   "metadata": {},
   "outputs": [
    {
     "name": "stdout",
     "output_type": "stream",
     "text": [
      "{0, 2, 3, 4, 5, 7, 456, 9, 8, 44, 78}\n"
     ]
    },
    {
     "data": {
      "text/plain": [
       "numpy.ndarray"
      ]
     },
     "execution_count": 7,
     "metadata": {},
     "output_type": "execute_result"
    }
   ],
   "source": [
    "np_list5 = np.array(x_set)\n",
    "print(np_list5)\n",
    "type(np_list5)"
   ]
  },
  {
   "cell_type": "markdown",
   "id": "d920d3f1",
   "metadata": {},
   "source": [
    "**`np.asarray()`** - pithon dagi barcha iteratsiya obyektlarini ndarray ga o'tqazadi"
   ]
  },
  {
   "cell_type": "code",
   "execution_count": 8,
   "id": "3107a2ad",
   "metadata": {},
   "outputs": [
    {
     "name": "stdout",
     "output_type": "stream",
     "text": [
      "[[3 5 4 6]\n",
      " [3 9 0 4]\n",
      " [4 8 6 9]]\n"
     ]
    },
    {
     "data": {
      "text/plain": [
       "numpy.ndarray"
      ]
     },
     "execution_count": 8,
     "metadata": {},
     "output_type": "execute_result"
    }
   ],
   "source": [
    "np_list6 = np.asarray(x_matrix3X4)\n",
    "print(np_list6)\n",
    "type(np_list6)"
   ]
  },
  {
   "cell_type": "code",
   "execution_count": 9,
   "id": "fac19241",
   "metadata": {},
   "outputs": [
    {
     "name": "stdout",
     "output_type": "stream",
     "text": [
      "[[12  3  5  4]\n",
      " [ 3  9  0  4]\n",
      " [ 4  8  6  1]\n",
      " [ 1  8  4  7]]\n"
     ]
    },
    {
     "data": {
      "text/plain": [
       "numpy.ndarray"
      ]
     },
     "execution_count": 9,
     "metadata": {},
     "output_type": "execute_result"
    }
   ],
   "source": [
    "np_list6 = np.asarray(x_matrix_kv)\n",
    "print(np_list6)\n",
    "type(np_list6)"
   ]
  },
  {
   "cell_type": "markdown",
   "id": "bde36829",
   "metadata": {},
   "source": [
    "**`np.arange()`** - pithondagi range funksiyasi bilan bir xil ishlaydi"
   ]
  },
  {
   "cell_type": "code",
   "execution_count": 10,
   "id": "fb3ab0a7",
   "metadata": {},
   "outputs": [
    {
     "data": {
      "text/plain": [
       "array([ 0,  1,  2,  3,  4,  5,  6,  7,  8,  9, 10, 11, 12, 13, 14])"
      ]
     },
     "execution_count": 10,
     "metadata": {},
     "output_type": "execute_result"
    }
   ],
   "source": [
    "x = np.arange(15)\n",
    "x"
   ]
  },
  {
   "cell_type": "code",
   "execution_count": 11,
   "id": "58a8d21b",
   "metadata": {},
   "outputs": [
    {
     "data": {
      "text/plain": [
       "numpy.ndarray"
      ]
     },
     "execution_count": 11,
     "metadata": {},
     "output_type": "execute_result"
    }
   ],
   "source": [
    "type(x)"
   ]
  },
  {
   "cell_type": "code",
   "execution_count": 12,
   "id": "a7e51e23",
   "metadata": {},
   "outputs": [
    {
     "name": "stdout",
     "output_type": "stream",
     "text": [
      "25 26 27 28 29 30 31 32 33 34 35 36 37 38 39 40 41 42 43 44 45 46 47 48 49 50 51 52 53 54 55 56 57 58 59 60 61 62 63 64 65 66 67 68 69 70 71 72 73 74 75 76 77 78 79 80 81 82 83 84 85 86 87 88 89 90 91 92 93 94 95 96 97 98 99\n"
     ]
    },
    {
     "data": {
      "text/plain": [
       "numpy.ndarray"
      ]
     },
     "execution_count": 12,
     "metadata": {},
     "output_type": "execute_result"
    }
   ],
   "source": [
    "np_list7 = np.arange(25,100)\n",
    "print(*np_list7)\n",
    "type(np_list7)"
   ]
  },
  {
   "cell_type": "markdown",
   "id": "2e25201a",
   "metadata": {},
   "source": [
    "**`np.ones()`** - shape kiritsangiz shu shaplarga mos 1 lardan iborat ndarray qaytaradi"
   ]
  },
  {
   "cell_type": "code",
   "execution_count": 13,
   "id": "a595505b",
   "metadata": {},
   "outputs": [
    {
     "name": "stdout",
     "output_type": "stream",
     "text": [
      "[[[[1. 1. 1. 1.]\n",
      "   [1. 1. 1. 1.]\n",
      "   [1. 1. 1. 1.]]\n",
      "\n",
      "  [[1. 1. 1. 1.]\n",
      "   [1. 1. 1. 1.]\n",
      "   [1. 1. 1. 1.]]]]\n"
     ]
    },
    {
     "data": {
      "text/plain": [
       "numpy.ndarray"
      ]
     },
     "execution_count": 13,
     "metadata": {},
     "output_type": "execute_result"
    }
   ],
   "source": [
    "np_list8 = np.ones((1,2,3,4))\n",
    "print(np_list8)\n",
    "type(np_list8)"
   ]
  },
  {
   "cell_type": "markdown",
   "id": "8e64f3c8",
   "metadata": {},
   "source": [
    "**`np.ones_like()`** - boshqa bir arrayni bersangiz uning o'lchamini olib 1 lar bilan to'ldirilgan ndarray qaytaradi "
   ]
  },
  {
   "cell_type": "code",
   "execution_count": 14,
   "id": "6b2ae190",
   "metadata": {},
   "outputs": [
    {
     "name": "stdout",
     "output_type": "stream",
     "text": [
      "[[1 1 1 1]\n",
      " [1 1 1 1]\n",
      " [1 1 1 1]]\n"
     ]
    },
    {
     "data": {
      "text/plain": [
       "numpy.ndarray"
      ]
     },
     "execution_count": 14,
     "metadata": {},
     "output_type": "execute_result"
    }
   ],
   "source": [
    "np_list9 = np.ones_like(x_matrix3X4)\n",
    "print(np_list9)\n",
    "type(np_list9)"
   ]
  },
  {
   "cell_type": "code",
   "execution_count": 15,
   "id": "e7656bf0",
   "metadata": {},
   "outputs": [
    {
     "name": "stdout",
     "output_type": "stream",
     "text": [
      "[[1 1 1 1]\n",
      " [1 1 1 1]\n",
      " [1 1 1 1]\n",
      " [1 1 1 1]]\n"
     ]
    },
    {
     "data": {
      "text/plain": [
       "numpy.ndarray"
      ]
     },
     "execution_count": 15,
     "metadata": {},
     "output_type": "execute_result"
    }
   ],
   "source": [
    "np_list9 = np.ones_like(x_matrix_kv)\n",
    "print(np_list9)\n",
    "type(np_list9)"
   ]
  },
  {
   "cell_type": "markdown",
   "id": "11e6798e",
   "metadata": {},
   "source": [
    "**`np.zeros()`** - shape kiritsangiz shu shaplarga mos 0 lardan iborat ndarray qaytaradi"
   ]
  },
  {
   "cell_type": "code",
   "execution_count": 16,
   "id": "527a6f92",
   "metadata": {},
   "outputs": [
    {
     "name": "stdout",
     "output_type": "stream",
     "text": [
      "[[[0. 0. 0. 0. 0.]\n",
      "  [0. 0. 0. 0. 0.]\n",
      "  [0. 0. 0. 0. 0.]]\n",
      "\n",
      " [[0. 0. 0. 0. 0.]\n",
      "  [0. 0. 0. 0. 0.]\n",
      "  [0. 0. 0. 0. 0.]]\n",
      "\n",
      " [[0. 0. 0. 0. 0.]\n",
      "  [0. 0. 0. 0. 0.]\n",
      "  [0. 0. 0. 0. 0.]]]\n"
     ]
    },
    {
     "data": {
      "text/plain": [
       "numpy.ndarray"
      ]
     },
     "execution_count": 16,
     "metadata": {},
     "output_type": "execute_result"
    }
   ],
   "source": [
    "np_list10 = np.zeros((3,3,5))\n",
    "print(np_list10)\n",
    "type(np_list10)"
   ]
  },
  {
   "cell_type": "markdown",
   "id": "cd49e2ec",
   "metadata": {},
   "source": [
    "**`np.zeros_like()`** - boshqa bir arrayni bersangiz uning o'lchamini olib 0 lar bilan to'ldirilgan ndarray qaytaradi"
   ]
  },
  {
   "cell_type": "code",
   "execution_count": 17,
   "id": "f2157ee8",
   "metadata": {},
   "outputs": [
    {
     "name": "stdout",
     "output_type": "stream",
     "text": [
      "[[0 0 0 0]\n",
      " [0 0 0 0]\n",
      " [0 0 0 0]]\n"
     ]
    },
    {
     "data": {
      "text/plain": [
       "numpy.ndarray"
      ]
     },
     "execution_count": 17,
     "metadata": {},
     "output_type": "execute_result"
    }
   ],
   "source": [
    "np_list11 = np.zeros_like(x_matrix3X4)\n",
    "print(np_list11)\n",
    "type(np_list11)"
   ]
  },
  {
   "cell_type": "code",
   "execution_count": 18,
   "id": "2972ac61",
   "metadata": {},
   "outputs": [
    {
     "name": "stdout",
     "output_type": "stream",
     "text": [
      "[[0 0 0 0]\n",
      " [0 0 0 0]\n",
      " [0 0 0 0]\n",
      " [0 0 0 0]]\n"
     ]
    },
    {
     "data": {
      "text/plain": [
       "numpy.ndarray"
      ]
     },
     "execution_count": 18,
     "metadata": {},
     "output_type": "execute_result"
    }
   ],
   "source": [
    "np_list11 = np.zeros_like(x_matrix_kv)\n",
    "print(np_list11)\n",
    "type(np_list11)"
   ]
  },
  {
   "cell_type": "markdown",
   "id": "e5026053",
   "metadata": {},
   "source": [
    "**`np.full()`** - shape va son kiritsangiz shu shaplarga mos kiritgan sonimizdan iborat ndarray qaytaradi"
   ]
  },
  {
   "cell_type": "code",
   "execution_count": 19,
   "id": "3a9e6ad3",
   "metadata": {},
   "outputs": [
    {
     "name": "stdout",
     "output_type": "stream",
     "text": [
      "[[[9 9 9 9 9]\n",
      "  [9 9 9 9 9]]\n",
      "\n",
      " [[9 9 9 9 9]\n",
      "  [9 9 9 9 9]]\n",
      "\n",
      " [[9 9 9 9 9]\n",
      "  [9 9 9 9 9]]]\n"
     ]
    },
    {
     "data": {
      "text/plain": [
       "numpy.ndarray"
      ]
     },
     "execution_count": 19,
     "metadata": {},
     "output_type": "execute_result"
    }
   ],
   "source": [
    "np_list12 = np.full((3,2,5),9)\n",
    "print(np_list12)\n",
    "type(np_list12)"
   ]
  },
  {
   "cell_type": "markdown",
   "id": "e55042d0",
   "metadata": {},
   "source": [
    "**`np.full_like()`** - boshqa bir array va son bersangiz uning o'lchamini olib o'sha son bilan to'ldirilgan ndarray qaytaradi"
   ]
  },
  {
   "cell_type": "code",
   "execution_count": 20,
   "id": "00d93551",
   "metadata": {},
   "outputs": [
    {
     "name": "stdout",
     "output_type": "stream",
     "text": [
      "[[6 6 6 6]\n",
      " [6 6 6 6]\n",
      " [6 6 6 6]]\n"
     ]
    },
    {
     "data": {
      "text/plain": [
       "numpy.ndarray"
      ]
     },
     "execution_count": 20,
     "metadata": {},
     "output_type": "execute_result"
    }
   ],
   "source": [
    "np_list13 = np.full_like(x_matrix3X4,6)\n",
    "print(np_list13)\n",
    "type(np_list13)"
   ]
  },
  {
   "cell_type": "markdown",
   "id": "a8956aa5",
   "metadata": {},
   "source": [
    "**`np.empty()`** - shape kiritsangiz shu shaplarga mos bo'sh sonlar bilan to'ldirilgan ndarray qaytaradi"
   ]
  },
  {
   "cell_type": "code",
   "execution_count": 21,
   "id": "79cd3635",
   "metadata": {},
   "outputs": [
    {
     "name": "stdout",
     "output_type": "stream",
     "text": [
      "[[1.01855798e-312 1.06099790e-312 1.01855798e-312 9.54898106e-313]\n",
      " [1.18831764e-312 1.01855798e-312 1.23075756e-312 1.03977794e-312]\n",
      " [1.03977794e-312 9.76118064e-313 1.18831764e-312 1.90979621e-312]]\n"
     ]
    },
    {
     "data": {
      "text/plain": [
       "numpy.ndarray"
      ]
     },
     "execution_count": 21,
     "metadata": {},
     "output_type": "execute_result"
    }
   ],
   "source": [
    "np_list14 = np.empty((3,4))\n",
    "print(np_list14)\n",
    "type(np_list14)"
   ]
  },
  {
   "cell_type": "markdown",
   "id": "9b0c80bd",
   "metadata": {},
   "source": [
    "**`np.empty_like()`** - boshqa bir arrayni bersangiz uning o'lchamini olib bo'sh sonlar bilan to'ldirilgan ndarray qaytaradi"
   ]
  },
  {
   "cell_type": "code",
   "execution_count": 22,
   "id": "24cca438",
   "metadata": {},
   "outputs": [
    {
     "name": "stdout",
     "output_type": "stream",
     "text": [
      "[[      0       0       0       0]\n",
      " [      0       0       0       0]\n",
      " [      0       0    1816       0]\n",
      " [      0 4980828       0 7077985]]\n"
     ]
    },
    {
     "data": {
      "text/plain": [
       "numpy.ndarray"
      ]
     },
     "execution_count": 22,
     "metadata": {},
     "output_type": "execute_result"
    }
   ],
   "source": [
    "np_list15 = np.empty_like(x_matrix_kv)\n",
    "print(np_list15)\n",
    "type(np_list15)"
   ]
  },
  {
   "cell_type": "markdown",
   "id": "1c405a82",
   "metadata": {},
   "source": [
    "**`np.eye()`** - shape kiritamiz shu shape ga mos birlik matritsa qaytaradi.(birlik matritsa - asosiy dioganali 1 lardan qolgan qismi 0 lardan iborat matritsa)"
   ]
  },
  {
   "cell_type": "code",
   "execution_count": 23,
   "id": "1611433c",
   "metadata": {},
   "outputs": [
    {
     "name": "stdout",
     "output_type": "stream",
     "text": [
      "[[1. 0. 0. 0. 0.]\n",
      " [0. 1. 0. 0. 0.]\n",
      " [0. 0. 1. 0. 0.]\n",
      " [0. 0. 0. 1. 0.]]\n"
     ]
    },
    {
     "data": {
      "text/plain": [
       "numpy.ndarray"
      ]
     },
     "execution_count": 23,
     "metadata": {},
     "output_type": "execute_result"
    }
   ],
   "source": [
    "np_list16 = np.eye(4,5)\n",
    "print(np_list16)\n",
    "type(np_list16)"
   ]
  },
  {
   "cell_type": "code",
   "execution_count": 24,
   "id": "b4861c67",
   "metadata": {},
   "outputs": [
    {
     "name": "stdout",
     "output_type": "stream",
     "text": [
      "[[0. 1. 0. 0. 0.]\n",
      " [0. 0. 1. 0. 0.]\n",
      " [0. 0. 0. 1. 0.]\n",
      " [0. 0. 0. 0. 1.]]\n"
     ]
    },
    {
     "data": {
      "text/plain": [
       "numpy.ndarray"
      ]
     },
     "execution_count": 24,
     "metadata": {},
     "output_type": "execute_result"
    }
   ],
   "source": [
    "# shape kiritamiz shu shape ga mos birlik matritsa qaytaradi.\n",
    "# (birlik matritsa - asosiy dioganali 1 lardan qolgan qismi 0 lardan iborat matritsa)\n",
    "# uning 3 chi soni asosiy dioganalini tepaga yoki pastga tushishini ifodalaydi(0<x-tepaga chiqaradi,aksincha bo'lsa pastga)\n",
    "np_list16 = np.eye(4,5,1)\n",
    "print(np_list16)\n",
    "type(np_list16)"
   ]
  },
  {
   "cell_type": "markdown",
   "id": "16160026",
   "metadata": {},
   "source": [
    "**`np.identity()`** - unga bir dona son kiritamiz shunga mos kvadrat birlik matritsa qaytaradi.(birlik matritsa - asosiy dioganali 1 lardan qolgan qismi 0 lardan iborat matritsa)"
   ]
  },
  {
   "cell_type": "code",
   "execution_count": 25,
   "id": "4f03a8c4",
   "metadata": {},
   "outputs": [
    {
     "name": "stdout",
     "output_type": "stream",
     "text": [
      "[[1. 0. 0. 0. 0.]\n",
      " [0. 1. 0. 0. 0.]\n",
      " [0. 0. 1. 0. 0.]\n",
      " [0. 0. 0. 1. 0.]\n",
      " [0. 0. 0. 0. 1.]]\n"
     ]
    },
    {
     "data": {
      "text/plain": [
       "numpy.ndarray"
      ]
     },
     "execution_count": 25,
     "metadata": {},
     "output_type": "execute_result"
    }
   ],
   "source": [
    "np_list17 = np.identity(5)\n",
    "print(np_list17)\n",
    "type(np_list17)"
   ]
  },
  {
   "cell_type": "markdown",
   "id": "9997adb3",
   "metadata": {},
   "source": [
    "# np.random\n",
    "\n",
    "* **`np.random.rand()`**\n",
    "* **`np.random.randn()`**\n",
    "* **`np.random.randint()`**"
   ]
  },
  {
   "cell_type": "markdown",
   "id": "3438cf8b",
   "metadata": {},
   "source": [
    "**`np.random.rand()`** 0 va 1 oralig'idagi sonlardan n o'lchamli massiv hosil qiladi."
   ]
  },
  {
   "cell_type": "code",
   "execution_count": 26,
   "id": "4deb99fc",
   "metadata": {},
   "outputs": [
    {
     "data": {
      "text/plain": [
       "array([[[0.60429415, 0.05994753],\n",
       "        [0.05757835, 0.84730661],\n",
       "        [0.43843917, 0.25174063],\n",
       "        [0.50919605, 0.60775493]],\n",
       "\n",
       "       [[0.7872778 , 0.87264136],\n",
       "        [0.69410514, 0.75702074],\n",
       "        [0.20730848, 0.22432733],\n",
       "        [0.44091258, 0.51014939]],\n",
       "\n",
       "       [[0.61532186, 0.08705005],\n",
       "        [0.78434216, 0.04682535],\n",
       "        [0.20543259, 0.60630807],\n",
       "        [0.75877175, 0.42805675]]])"
      ]
     },
     "execution_count": 26,
     "metadata": {},
     "output_type": "execute_result"
    }
   ],
   "source": [
    "np_1 = np.random.rand(3,4,2)\n",
    "np_1"
   ]
  },
  {
   "cell_type": "markdown",
   "id": "265f581d",
   "metadata": {},
   "source": [
    "**`np.random.randn()`** istalgan sonlardan n o'lchamli massiv hosil qilib beradi.Odatda kichikroq sonlardan tanlaydi."
   ]
  },
  {
   "cell_type": "code",
   "execution_count": 27,
   "id": "8be90c83",
   "metadata": {},
   "outputs": [
    {
     "data": {
      "text/plain": [
       "array([[ 0.78054717,  1.31650068],\n",
       "       [ 0.49393428,  1.17185329],\n",
       "       [-0.36725189, -0.65986471],\n",
       "       [-0.97110108, -0.07466123],\n",
       "       [-0.33720692, -1.0753797 ]])"
      ]
     },
     "execution_count": 27,
     "metadata": {},
     "output_type": "execute_result"
    }
   ],
   "source": [
    "np_1 = np.random.randn(5,2)\n",
    "np_1"
   ]
  },
  {
   "cell_type": "markdown",
   "id": "1c510fe7",
   "metadata": {},
   "source": [
    "**`np.random.randint()`** \n",
    "* 1.Ichiga yozilgan range oralig'ida istalgan sonni qaytaradi\n",
    "* 2.range dan tshqari ichiga yana size ham yozish mumkin u bizga o'sha o'lchamda n o'lchamli massiv hosil qilib beradi"
   ]
  },
  {
   "cell_type": "code",
   "execution_count": 28,
   "id": "a46638a6",
   "metadata": {},
   "outputs": [
    {
     "data": {
      "text/plain": [
       "8"
      ]
     },
     "execution_count": 28,
     "metadata": {},
     "output_type": "execute_result"
    }
   ],
   "source": [
    "np_1 = np.random.randint(5,10)\n",
    "np_1"
   ]
  },
  {
   "cell_type": "code",
   "execution_count": 29,
   "id": "f6140625",
   "metadata": {},
   "outputs": [
    {
     "data": {
      "text/plain": [
       "array([[[8, 8],\n",
       "        [5, 5],\n",
       "        [6, 5]],\n",
       "\n",
       "       [[9, 7],\n",
       "        [9, 9],\n",
       "        [9, 6]],\n",
       "\n",
       "       [[6, 9],\n",
       "        [9, 9],\n",
       "        [6, 9]],\n",
       "\n",
       "       [[5, 8],\n",
       "        [9, 5],\n",
       "        [9, 5]]])"
      ]
     },
     "execution_count": 29,
     "metadata": {},
     "output_type": "execute_result"
    }
   ],
   "source": [
    "np_1 = np.random.randint(5,10,size=(4,3,2))\n",
    "np_1"
   ]
  },
  {
   "cell_type": "markdown",
   "id": "6453da33",
   "metadata": {},
   "source": [
    "# Qo'shimcha\n",
    "\n",
    "* *1.*`shape` - o'lchamlarini ko'rsatadi.\n",
    "* *2.*`size` - ichida nechta elementi borligini ko'rsatadi.\n",
    "* *3.*`dtype` - toifasini ko'rsatadi.\n",
    "* *4.*`ndim` - necha o'lchamli ekanini ko'rsatadi.\n",
    "* *5.*`nbytes` - necha bayt joy egallaganini ko'rsatadi."
   ]
  },
  {
   "cell_type": "code",
   "execution_count": 30,
   "id": "0bb9af1b",
   "metadata": {},
   "outputs": [
    {
     "data": {
      "text/plain": [
       "array([[[1., 1., 1., 1.],\n",
       "        [1., 1., 1., 1.],\n",
       "        [1., 1., 1., 1.],\n",
       "        [1., 1., 1., 1.],\n",
       "        [1., 1., 1., 1.],\n",
       "        [1., 1., 1., 1.]],\n",
       "\n",
       "       [[1., 1., 1., 1.],\n",
       "        [1., 1., 1., 1.],\n",
       "        [1., 1., 1., 1.],\n",
       "        [1., 1., 1., 1.],\n",
       "        [1., 1., 1., 1.],\n",
       "        [1., 1., 1., 1.]],\n",
       "\n",
       "       [[1., 1., 1., 1.],\n",
       "        [1., 1., 1., 1.],\n",
       "        [1., 1., 1., 1.],\n",
       "        [1., 1., 1., 1.],\n",
       "        [1., 1., 1., 1.],\n",
       "        [1., 1., 1., 1.]],\n",
       "\n",
       "       [[1., 1., 1., 1.],\n",
       "        [1., 1., 1., 1.],\n",
       "        [1., 1., 1., 1.],\n",
       "        [1., 1., 1., 1.],\n",
       "        [1., 1., 1., 1.],\n",
       "        [1., 1., 1., 1.]],\n",
       "\n",
       "       [[1., 1., 1., 1.],\n",
       "        [1., 1., 1., 1.],\n",
       "        [1., 1., 1., 1.],\n",
       "        [1., 1., 1., 1.],\n",
       "        [1., 1., 1., 1.],\n",
       "        [1., 1., 1., 1.]]])"
      ]
     },
     "execution_count": 30,
     "metadata": {},
     "output_type": "execute_result"
    }
   ],
   "source": [
    "qoshimcha1 = np.ones((5,6,4))\n",
    "qoshimcha1"
   ]
  },
  {
   "cell_type": "code",
   "execution_count": 31,
   "id": "60bf0c1f",
   "metadata": {},
   "outputs": [
    {
     "data": {
      "text/plain": [
       "(5, 6, 4)"
      ]
     },
     "execution_count": 31,
     "metadata": {},
     "output_type": "execute_result"
    }
   ],
   "source": [
    "qoshimcha1.shape"
   ]
  },
  {
   "cell_type": "code",
   "execution_count": 32,
   "id": "9cb6d381",
   "metadata": {},
   "outputs": [
    {
     "data": {
      "text/plain": [
       "120"
      ]
     },
     "execution_count": 32,
     "metadata": {},
     "output_type": "execute_result"
    }
   ],
   "source": [
    "qoshimcha1.size"
   ]
  },
  {
   "cell_type": "code",
   "execution_count": 33,
   "id": "60cffbc4",
   "metadata": {},
   "outputs": [
    {
     "data": {
      "text/plain": [
       "dtype('float64')"
      ]
     },
     "execution_count": 33,
     "metadata": {},
     "output_type": "execute_result"
    }
   ],
   "source": [
    "qoshimcha1.dtype"
   ]
  },
  {
   "cell_type": "code",
   "execution_count": 34,
   "id": "f74c7425",
   "metadata": {},
   "outputs": [
    {
     "data": {
      "text/plain": [
       "3"
      ]
     },
     "execution_count": 34,
     "metadata": {},
     "output_type": "execute_result"
    }
   ],
   "source": [
    "qoshimcha1.ndim"
   ]
  },
  {
   "cell_type": "code",
   "execution_count": 35,
   "id": "9e5a5785",
   "metadata": {},
   "outputs": [
    {
     "data": {
      "text/plain": [
       "960"
      ]
     },
     "execution_count": 35,
     "metadata": {},
     "output_type": "execute_result"
    }
   ],
   "source": [
    "qoshimcha1.nbytes"
   ]
  },
  {
   "cell_type": "code",
   "execution_count": 36,
   "id": "24dc3e87",
   "metadata": {},
   "outputs": [],
   "source": [
    "qoshimcha1 = np.ones((5,6,4),dtype=np.uint8)"
   ]
  },
  {
   "cell_type": "code",
   "execution_count": 37,
   "id": "f0e59454",
   "metadata": {
    "scrolled": true
   },
   "outputs": [
    {
     "data": {
      "text/plain": [
       "120"
      ]
     },
     "execution_count": 37,
     "metadata": {},
     "output_type": "execute_result"
    }
   ],
   "source": [
    "qoshimcha1.nbytes"
   ]
  }
 ],
 "metadata": {
  "kernelspec": {
   "display_name": "Python 3 (ipykernel)",
   "language": "python",
   "name": "python3"
  },
  "language_info": {
   "codemirror_mode": {
    "name": "ipython",
    "version": 3
   },
   "file_extension": ".py",
   "mimetype": "text/x-python",
   "name": "python",
   "nbconvert_exporter": "python",
   "pygments_lexer": "ipython3",
   "version": "3.9.8"
  }
 },
 "nbformat": 4,
 "nbformat_minor": 5
}
