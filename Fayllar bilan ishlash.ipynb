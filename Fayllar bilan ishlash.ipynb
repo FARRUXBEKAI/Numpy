{
 "cells": [
  {
   "cell_type": "markdown",
   "id": "79e1072e",
   "metadata": {},
   "source": [
    "# 8/09/2022\n",
    "\n",
    "# Numpy\n",
    "\n",
    "\n",
    "# Muallif: Farrux Sotivoldiyev"
   ]
  },
  {
   "cell_type": "markdown",
   "id": "811d6b46",
   "metadata": {},
   "source": [
    "# Fayllar bilan ishlash (Numpy)\n",
    "* `np.save` - faqat 1 ta arrayni save qiladi\n",
    "* `np.savetxt` - txt fayl qilib saqlaydi\n",
    "* `np.savez` - 2 va undan ortig'ini save qiladi,zip ga o'xshash\n",
    "* `np.savez_compressed` - savez ni compress varianti\n",
    "* `np.load`  - malumotni o'qiydi\n",
    "* `np.loadtxt` - faqat txt faylidagi malumotlatni o'qiydi\n",
    "* `.files` - fileni ichida qanday o'zgaruvchilar borligini bilish"
   ]
  },
  {
   "cell_type": "markdown",
   "id": "e43a12a9",
   "metadata": {},
   "source": [
    "**`Numpy kutubxonasini chaqirib olamiz`**"
   ]
  },
  {
   "cell_type": "code",
   "execution_count": 2,
   "id": "d2a47f44",
   "metadata": {},
   "outputs": [],
   "source": [
    "import numpy as np"
   ]
  },
  {
   "cell_type": "markdown",
   "id": "86b2fa7c",
   "metadata": {},
   "source": [
    "**`np.save`** - npy ko'rinishida saqlaydi . Faqat bitta data saqlash mumkin "
   ]
  },
  {
   "cell_type": "code",
   "execution_count": 7,
   "id": "131b9983",
   "metadata": {},
   "outputs": [],
   "source": [
    "array = np.arange(5)\n",
    "np.save(\"data\",array)"
   ]
  },
  {
   "cell_type": "code",
   "execution_count": 8,
   "id": "ea846f79",
   "metadata": {},
   "outputs": [],
   "source": [
    "array1 = np.arange(5)\n",
    "np.save(\"data1.npy\",array1)"
   ]
  },
  {
   "cell_type": "markdown",
   "id": "641262f4",
   "metadata": {},
   "source": [
    "**`np.savetxt`**"
   ]
  },
  {
   "cell_type": "code",
   "execution_count": 39,
   "id": "6ee4040e",
   "metadata": {},
   "outputs": [],
   "source": [
    "np.savetxt(\"file_txt\",array3)"
   ]
  },
  {
   "cell_type": "markdown",
   "id": "fccb1738",
   "metadata": {},
   "source": [
    "**`np.savez`** - npz korinishida saqlaydi.Ikki va undan ortiq data saqlash ham mumkin "
   ]
  },
  {
   "cell_type": "code",
   "execution_count": 9,
   "id": "affde648",
   "metadata": {},
   "outputs": [],
   "source": [
    "array3 = np.arange(10)\n",
    "np.savez(\"data3.npz\",array3,array1)"
   ]
  },
  {
   "cell_type": "markdown",
   "id": "7849b2aa",
   "metadata": {},
   "source": [
    "**`np.savez_compressed`** - npz korinishida saqlaydi.Bu ham hohlagancha malumot saqlaydi va compress qilib qoyadi"
   ]
  },
  {
   "cell_type": "code",
   "execution_count": 10,
   "id": "83cb04d1",
   "metadata": {},
   "outputs": [],
   "source": [
    "array3 = np.arange(10)\n",
    "np.savez_compressed(\"data4.npz\",array3,array1)"
   ]
  },
  {
   "cell_type": "markdown",
   "id": "6595fe69",
   "metadata": {},
   "source": [
    "**`np.load`** - fayldagi malumotlatni o'qiydi"
   ]
  },
  {
   "cell_type": "code",
   "execution_count": 11,
   "id": "913452b0",
   "metadata": {},
   "outputs": [
    {
     "data": {
      "text/plain": [
       "array([0, 1, 2, 3, 4])"
      ]
     },
     "execution_count": 11,
     "metadata": {},
     "output_type": "execute_result"
    }
   ],
   "source": [
    "np.load(\"data.npy\")"
   ]
  },
  {
   "cell_type": "code",
   "execution_count": 15,
   "id": "3167b19b",
   "metadata": {},
   "outputs": [
    {
     "data": {
      "text/plain": [
       "<numpy.lib.npyio.NpzFile at 0x1bad03e7700>"
      ]
     },
     "execution_count": 15,
     "metadata": {},
     "output_type": "execute_result"
    }
   ],
   "source": [
    "arrays = np.load(\"data4.npz\") # ichida 2 va undan ortiq o'zgarucvhida ma'lumot bor bo'lsa obyekt qaytaradi\n",
    "arrays"
   ]
  },
  {
   "cell_type": "code",
   "execution_count": 22,
   "id": "0737c2f9",
   "metadata": {},
   "outputs": [
    {
     "data": {
      "text/plain": [
       "['arr_0', 'arr_1']"
      ]
     },
     "execution_count": 22,
     "metadata": {},
     "output_type": "execute_result"
    }
   ],
   "source": [
    "arrays.files # ichidagi ma'lumotlarni nomini chiqaradi . Default holatda uzi qo'yadi fayl nomini"
   ]
  },
  {
   "cell_type": "code",
   "execution_count": 23,
   "id": "d0c54f55",
   "metadata": {},
   "outputs": [
    {
     "data": {
      "text/plain": [
       "array([0, 1, 2, 3, 4, 5, 6, 7, 8, 9])"
      ]
     },
     "execution_count": 23,
     "metadata": {},
     "output_type": "execute_result"
    }
   ],
   "source": [
    "arrays['arr_0'] # shunday qilib qayta o'qib olinadi"
   ]
  },
  {
   "cell_type": "code",
   "execution_count": 24,
   "id": "34010046",
   "metadata": {},
   "outputs": [
    {
     "data": {
      "text/plain": [
       "array([0, 1, 2, 3, 4])"
      ]
     },
     "execution_count": 24,
     "metadata": {},
     "output_type": "execute_result"
    }
   ],
   "source": [
    "arrays['arr_1'] # shunday qilib qayta o'qib olinadi"
   ]
  },
  {
   "cell_type": "markdown",
   "id": "1b530253",
   "metadata": {},
   "source": [
    "**`np.loadtxt`** - faqat txt faylidagi malumotlatni o'qiydi"
   ]
  },
  {
   "cell_type": "code",
   "execution_count": 41,
   "id": "b6c0d247",
   "metadata": {},
   "outputs": [
    {
     "data": {
      "text/plain": [
       "array([0., 1., 2., 3., 4., 5., 6., 7., 8., 9.])"
      ]
     },
     "execution_count": 41,
     "metadata": {},
     "output_type": "execute_result"
    }
   ],
   "source": [
    "np.loadtxt(\"file_txt\")"
   ]
  },
  {
   "cell_type": "markdown",
   "id": "9793f2f9",
   "metadata": {},
   "source": [
    "**`np.savez`** - har bitta data ga alohidadan nom berib saqlash"
   ]
  },
  {
   "cell_type": "code",
   "execution_count": 25,
   "id": "aedd3bcf",
   "metadata": {},
   "outputs": [],
   "source": [
    "array_1 = np.array([1,2,3,4,5,6,7])\n",
    "array_2 = np.array([11,21,31,41,51,16,71])"
   ]
  },
  {
   "cell_type": "code",
   "execution_count": 26,
   "id": "1b501c54",
   "metadata": {},
   "outputs": [],
   "source": [
    "np.savez(\"data5\",a=array_1,b=array_2)"
   ]
  },
  {
   "cell_type": "code",
   "execution_count": 28,
   "id": "dfdb954e",
   "metadata": {},
   "outputs": [
    {
     "data": {
      "text/plain": [
       "<numpy.lib.npyio.NpzFile at 0x1bad0f51be0>"
      ]
     },
     "execution_count": 28,
     "metadata": {},
     "output_type": "execute_result"
    }
   ],
   "source": [
    "arrays = np.load(\"data5.npz\")\n",
    "arrays"
   ]
  },
  {
   "cell_type": "code",
   "execution_count": 30,
   "id": "bdc3853b",
   "metadata": {},
   "outputs": [
    {
     "data": {
      "text/plain": [
       "['a', 'b']"
      ]
     },
     "execution_count": 30,
     "metadata": {},
     "output_type": "execute_result"
    }
   ],
   "source": [
    "arrays.files # ko'rishingiz mumkin biz bergan nom bo'yicha saqlangan ekan"
   ]
  },
  {
   "cell_type": "code",
   "execution_count": 31,
   "id": "d7b2726f",
   "metadata": {},
   "outputs": [
    {
     "data": {
      "text/plain": [
       "array([1, 2, 3, 4, 5, 6, 7])"
      ]
     },
     "execution_count": 31,
     "metadata": {},
     "output_type": "execute_result"
    }
   ],
   "source": [
    "arrays[\"a\"]"
   ]
  },
  {
   "cell_type": "code",
   "execution_count": 32,
   "id": "9525006e",
   "metadata": {},
   "outputs": [
    {
     "data": {
      "text/plain": [
       "array([11, 21, 31, 41, 51, 16, 71])"
      ]
     },
     "execution_count": 32,
     "metadata": {},
     "output_type": "execute_result"
    }
   ],
   "source": [
    "arrays[\"b\"]"
   ]
  }
 ],
 "metadata": {
  "kernelspec": {
   "display_name": "Python 3 (ipykernel)",
   "language": "python",
   "name": "python3"
  },
  "language_info": {
   "codemirror_mode": {
    "name": "ipython",
    "version": 3
   },
   "file_extension": ".py",
   "mimetype": "text/x-python",
   "name": "python",
   "nbconvert_exporter": "python",
   "pygments_lexer": "ipython3",
   "version": "3.9.8"
  }
 },
 "nbformat": 4,
 "nbformat_minor": 5
}
