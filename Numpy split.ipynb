{
 "cells": [
  {
   "cell_type": "markdown",
   "id": "f07a267e",
   "metadata": {},
   "source": [
    "# Numpy split\n",
    "* `np.split(axis)` - Axislar bo'yicha split qilib beradi va abizatelniy nechiga bo'lishni yozish kerak\n",
    "* `np.hsplit()` - gorizontal split\n",
    "* `np.vsplit()` - vertikal split\n",
    "* `np.dsplit()` - deep split.ndim 3 bo'lgan holatlarda 3-o'q bo'yicha bo'lib beradi\n",
    "* `np.array_split()` - hohlagancha bo'lib tashlaydi xatolik qaytarmaydi"
   ]
  },
  {
   "cell_type": "markdown",
   "id": "e43a12a9",
   "metadata": {},
   "source": [
    "**`Numpy kutubxonasini chaqirib olamiz`**"
   ]
  },
  {
   "cell_type": "code",
   "execution_count": 1,
   "id": "d2a47f44",
   "metadata": {},
   "outputs": [],
   "source": [
    "import numpy as np"
   ]
  },
  {
   "cell_type": "markdown",
   "id": "fe37e3ea",
   "metadata": {},
   "source": [
    "**`np.split()`**"
   ]
  },
  {
   "cell_type": "code",
   "execution_count": 18,
   "id": "00d8e189",
   "metadata": {},
   "outputs": [
    {
     "data": {
      "text/plain": [
       "array([[2, 1, 2, 3],\n",
       "       [3, 4, 4, 1],\n",
       "       [1, 3, 4, 3],\n",
       "       [3, 1, 2, 4]])"
      ]
     },
     "execution_count": 18,
     "metadata": {},
     "output_type": "execute_result"
    }
   ],
   "source": [
    "np_1 = np.random.randint(1,5,size=(4,4))\n",
    "np_1"
   ]
  },
  {
   "cell_type": "code",
   "execution_count": 27,
   "id": "f33cd841",
   "metadata": {},
   "outputs": [
    {
     "data": {
      "text/plain": [
       "[array([[2, 1, 2, 3],\n",
       "        [3, 4, 4, 1]]),\n",
       " array([[1, 3, 4, 3],\n",
       "        [3, 1, 2, 4]])]"
      ]
     },
     "execution_count": 27,
     "metadata": {},
     "output_type": "execute_result"
    }
   ],
   "source": [
    "np.split(np_1,2)"
   ]
  },
  {
   "cell_type": "code",
   "execution_count": 25,
   "id": "330f184f",
   "metadata": {},
   "outputs": [
    {
     "data": {
      "text/plain": [
       "[array([[2, 1, 2, 3]]),\n",
       " array([[3, 4, 4, 1]]),\n",
       " array([[1, 3, 4, 3]]),\n",
       " array([[3, 1, 2, 4]])]"
      ]
     },
     "execution_count": 25,
     "metadata": {},
     "output_type": "execute_result"
    }
   ],
   "source": [
    "np.split(np_1,4)"
   ]
  },
  {
   "cell_type": "code",
   "execution_count": 28,
   "id": "c87b1131",
   "metadata": {},
   "outputs": [
    {
     "data": {
      "text/plain": [
       "[array([[2, 1, 2, 3],\n",
       "        [3, 4, 4, 1]]),\n",
       " array([[1, 3, 4, 3],\n",
       "        [3, 1, 2, 4]])]"
      ]
     },
     "execution_count": 28,
     "metadata": {},
     "output_type": "execute_result"
    }
   ],
   "source": [
    "np.split(np_1,2,axis=0) # y o'qini teng 2 bo'lakka bo'ldi"
   ]
  },
  {
   "cell_type": "code",
   "execution_count": 29,
   "id": "ed880e7f",
   "metadata": {},
   "outputs": [
    {
     "data": {
      "text/plain": [
       "[array([[2, 1],\n",
       "        [3, 4],\n",
       "        [1, 3],\n",
       "        [3, 1]]),\n",
       " array([[2, 3],\n",
       "        [4, 1],\n",
       "        [4, 3],\n",
       "        [2, 4]])]"
      ]
     },
     "execution_count": 29,
     "metadata": {},
     "output_type": "execute_result"
    }
   ],
   "source": [
    "np.split(np_1,2,axis=1) # x o'qini teng 2 bo'lakka bo'ldi"
   ]
  },
  {
   "cell_type": "markdown",
   "id": "3122c31b",
   "metadata": {},
   "source": [
    "**`np.hsplit()`**"
   ]
  },
  {
   "cell_type": "code",
   "execution_count": 32,
   "id": "a3ff9010",
   "metadata": {},
   "outputs": [
    {
     "data": {
      "text/plain": [
       "[array([[2, 1],\n",
       "        [3, 4],\n",
       "        [1, 3],\n",
       "        [3, 1]]),\n",
       " array([[2, 3],\n",
       "        [4, 1],\n",
       "        [4, 3],\n",
       "        [2, 4]])]"
      ]
     },
     "execution_count": 32,
     "metadata": {},
     "output_type": "execute_result"
    }
   ],
   "source": [
    "np.hsplit(np_1,2)"
   ]
  },
  {
   "cell_type": "markdown",
   "id": "9dd4e8e0",
   "metadata": {},
   "source": [
    "**`np.vsplit()`**"
   ]
  },
  {
   "cell_type": "code",
   "execution_count": 33,
   "id": "f713ded5",
   "metadata": {},
   "outputs": [
    {
     "data": {
      "text/plain": [
       "[array([[2, 1, 2, 3],\n",
       "        [3, 4, 4, 1]]),\n",
       " array([[1, 3, 4, 3],\n",
       "        [3, 1, 2, 4]])]"
      ]
     },
     "execution_count": 33,
     "metadata": {},
     "output_type": "execute_result"
    }
   ],
   "source": [
    "np.vsplit(np_1,2)"
   ]
  },
  {
   "cell_type": "markdown",
   "id": "1713e755",
   "metadata": {},
   "source": [
    "**`np.array_split()`** - bu bo'lish mumkin bo'lmasa ham bo'laveradi bunga farqi yoq"
   ]
  },
  {
   "cell_type": "code",
   "execution_count": 37,
   "id": "ce3cd0af",
   "metadata": {},
   "outputs": [
    {
     "data": {
      "text/plain": [
       "[array([[2, 1, 2, 3],\n",
       "        [3, 4, 4, 1]]),\n",
       " array([[1, 3, 4, 3]]),\n",
       " array([[3, 1, 2, 4]])]"
      ]
     },
     "execution_count": 37,
     "metadata": {},
     "output_type": "execute_result"
    }
   ],
   "source": [
    "np.array_split(np_1,3)"
   ]
  },
  {
   "cell_type": "code",
   "execution_count": 40,
   "id": "6e9ca079",
   "metadata": {},
   "outputs": [
    {
     "data": {
      "text/plain": [
       "[array([[2, 1],\n",
       "        [3, 4],\n",
       "        [1, 3],\n",
       "        [3, 1]]),\n",
       " array([[2],\n",
       "        [4],\n",
       "        [4],\n",
       "        [2]]),\n",
       " array([[3],\n",
       "        [1],\n",
       "        [3],\n",
       "        [4]])]"
      ]
     },
     "execution_count": 40,
     "metadata": {},
     "output_type": "execute_result"
    }
   ],
   "source": [
    "np.array_split(np_1,3,axis=1)"
   ]
  },
  {
   "cell_type": "code",
   "execution_count": 42,
   "id": "80e8a821",
   "metadata": {
    "scrolled": true
   },
   "outputs": [
    {
     "data": {
      "text/plain": [
       "[array([[2, 1, 2, 3],\n",
       "        [3, 4, 4, 1]]),\n",
       " array([[1, 3, 4, 3],\n",
       "        [3, 1, 2, 4]])]"
      ]
     },
     "execution_count": 42,
     "metadata": {},
     "output_type": "execute_result"
    }
   ],
   "source": [
    "np.array_split(np_1,2,axis=0)"
   ]
  }
 ],
 "metadata": {
  "kernelspec": {
   "display_name": "Python 3 (ipykernel)",
   "language": "python",
   "name": "python3"
  },
  "language_info": {
   "codemirror_mode": {
    "name": "ipython",
    "version": 3
   },
   "file_extension": ".py",
   "mimetype": "text/x-python",
   "name": "python",
   "nbconvert_exporter": "python",
   "pygments_lexer": "ipython3",
   "version": "3.9.8"
  }
 },
 "nbformat": 4,
 "nbformat_minor": 5
}
