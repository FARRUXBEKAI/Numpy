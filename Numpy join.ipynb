{
 "cells": [
  {
   "cell_type": "markdown",
   "id": "5a6490d8",
   "metadata": {},
   "source": [
    "# 8/09/2022\n",
    "\n",
    "# Numpy\n",
    "\n",
    "\n",
    "# Muallif: Farrux Sotivoldiyev"
   ]
  },
  {
   "cell_type": "markdown",
   "id": "2a34581f",
   "metadata": {},
   "source": [
    "# Numpy join\n",
    "* `np.append(axis)` - ikkita massivni qo'shib beradi\n",
    "* `np.concatenate(axis)` - ikkita massivni qo'shib beradi\n",
    "* `np.vstack()` - vertikal qo'shish\n",
    "* `np.hstack()` - horizontal qo'shish\n",
    "* `np.dstack()` - deep yani 3-o'q bo'yicha qo'shish\n",
    "* `np.stack(axis)`- bu ham qo'shib beradi\n",
    "* `append` va `concatenate` bir xil funksiyalar.`vstack`,`hstack`,`dstack` shularning xususiy holi"
   ]
  },
  {
   "cell_type": "markdown",
   "id": "e43a12a9",
   "metadata": {},
   "source": [
    "**`Numpy kutubxonasini chaqirib olamiz`**"
   ]
  },
  {
   "cell_type": "code",
   "execution_count": 1,
   "id": "d2a47f44",
   "metadata": {},
   "outputs": [],
   "source": [
    "import numpy as np"
   ]
  },
  {
   "cell_type": "code",
   "execution_count": 2,
   "id": "3504c1e4",
   "metadata": {},
   "outputs": [],
   "source": [
    "np_2 = np.array([1,2,3,4])\n",
    "np_3 = np.array([5,6,7,8])"
   ]
  },
  {
   "cell_type": "markdown",
   "id": "72fa7eef",
   "metadata": {},
   "source": [
    "**`np.vstack`**"
   ]
  },
  {
   "cell_type": "code",
   "execution_count": 3,
   "id": "9cea3192",
   "metadata": {},
   "outputs": [
    {
     "data": {
      "text/plain": [
       "array([[1, 2, 3, 4],\n",
       "       [5, 6, 7, 8]])"
      ]
     },
     "execution_count": 3,
     "metadata": {},
     "output_type": "execute_result"
    }
   ],
   "source": [
    "np.vstack((np_2,np_3))"
   ]
  },
  {
   "cell_type": "markdown",
   "id": "6d5e375b",
   "metadata": {},
   "source": [
    "**`np.hstack`**"
   ]
  },
  {
   "cell_type": "code",
   "execution_count": 4,
   "id": "fa6208db",
   "metadata": {},
   "outputs": [
    {
     "data": {
      "text/plain": [
       "array([1, 2, 3, 4, 5, 6, 7, 8])"
      ]
     },
     "execution_count": 4,
     "metadata": {},
     "output_type": "execute_result"
    }
   ],
   "source": [
    "np.hstack((np_2,np_3))"
   ]
  },
  {
   "cell_type": "markdown",
   "id": "0df80f28",
   "metadata": {},
   "source": [
    "**`np.concatenate`**"
   ]
  },
  {
   "cell_type": "code",
   "execution_count": 5,
   "id": "14fe5b6f",
   "metadata": {},
   "outputs": [
    {
     "data": {
      "text/plain": [
       "array([1, 2, 3, 4, 5, 6, 7, 8])"
      ]
     },
     "execution_count": 5,
     "metadata": {},
     "output_type": "execute_result"
    }
   ],
   "source": [
    "np.concatenate((np_2,np_3)) # 1D da hstack bilan ekvivalent"
   ]
  },
  {
   "cell_type": "markdown",
   "id": "aea8d9b6",
   "metadata": {},
   "source": [
    "**`np.append`**"
   ]
  },
  {
   "cell_type": "code",
   "execution_count": 6,
   "id": "10b982bc",
   "metadata": {},
   "outputs": [
    {
     "data": {
      "text/plain": [
       "array([1, 2, 3, 4, 5, 6, 7, 8])"
      ]
     },
     "execution_count": 6,
     "metadata": {},
     "output_type": "execute_result"
    }
   ],
   "source": [
    "np.append(np_2,np_3) # 1D da hstack bilan ekvivalent"
   ]
  },
  {
   "cell_type": "code",
   "execution_count": 7,
   "id": "bd56e30d",
   "metadata": {},
   "outputs": [],
   "source": [
    "np_4 = np.random.randint(1,5,size=(3,3))\n",
    "np_5 = np.random.randint(5,9,size=(3,3))"
   ]
  },
  {
   "cell_type": "code",
   "execution_count": 8,
   "id": "bda913b7",
   "metadata": {},
   "outputs": [
    {
     "data": {
      "text/plain": [
       "array([[2, 1, 2],\n",
       "       [4, 1, 3],\n",
       "       [2, 3, 2]])"
      ]
     },
     "execution_count": 8,
     "metadata": {},
     "output_type": "execute_result"
    }
   ],
   "source": [
    "np_4"
   ]
  },
  {
   "cell_type": "code",
   "execution_count": 9,
   "id": "23e93efd",
   "metadata": {},
   "outputs": [
    {
     "data": {
      "text/plain": [
       "array([[8, 8, 8],\n",
       "       [8, 6, 7],\n",
       "       [5, 8, 8]])"
      ]
     },
     "execution_count": 9,
     "metadata": {},
     "output_type": "execute_result"
    }
   ],
   "source": [
    "np_5"
   ]
  },
  {
   "cell_type": "code",
   "execution_count": 10,
   "id": "4c790566",
   "metadata": {},
   "outputs": [
    {
     "data": {
      "text/plain": [
       "array([[2, 1, 2],\n",
       "       [4, 1, 3],\n",
       "       [2, 3, 2],\n",
       "       [8, 8, 8],\n",
       "       [8, 6, 7],\n",
       "       [5, 8, 8]])"
      ]
     },
     "execution_count": 10,
     "metadata": {},
     "output_type": "execute_result"
    }
   ],
   "source": [
    "np.vstack((np_4,np_5))"
   ]
  },
  {
   "cell_type": "code",
   "execution_count": 11,
   "id": "d5fa17d9",
   "metadata": {},
   "outputs": [
    {
     "data": {
      "text/plain": [
       "array([[2, 1, 2, 8, 8, 8],\n",
       "       [4, 1, 3, 8, 6, 7],\n",
       "       [2, 3, 2, 5, 8, 8]])"
      ]
     },
     "execution_count": 11,
     "metadata": {},
     "output_type": "execute_result"
    }
   ],
   "source": [
    "np.hstack((np_4,np_5))"
   ]
  },
  {
   "cell_type": "code",
   "execution_count": 12,
   "id": "435e69ec",
   "metadata": {},
   "outputs": [
    {
     "data": {
      "text/plain": [
       "array([2, 1, 2, 4, 1, 3, 2, 3, 2, 8, 8, 8, 8, 6, 7, 5, 8, 8])"
      ]
     },
     "execution_count": 12,
     "metadata": {},
     "output_type": "execute_result"
    }
   ],
   "source": [
    "np.append(np_4,np_5) # 2 va undan ortiq dim larda append shunday ishlaydi yani axis yozmasak bitta list qilib qaytaradi"
   ]
  },
  {
   "cell_type": "code",
   "execution_count": 13,
   "id": "900b3740",
   "metadata": {},
   "outputs": [
    {
     "data": {
      "text/plain": [
       "array([[2, 1, 2],\n",
       "       [4, 1, 3],\n",
       "       [2, 3, 2],\n",
       "       [8, 8, 8],\n",
       "       [8, 6, 7],\n",
       "       [5, 8, 8]])"
      ]
     },
     "execution_count": 13,
     "metadata": {},
     "output_type": "execute_result"
    }
   ],
   "source": [
    "np.append(np_4,np_5,axis=0)"
   ]
  },
  {
   "cell_type": "code",
   "execution_count": 14,
   "id": "b32d2fe2",
   "metadata": {},
   "outputs": [
    {
     "data": {
      "text/plain": [
       "array([[2, 1, 2, 8, 8, 8],\n",
       "       [4, 1, 3, 8, 6, 7],\n",
       "       [2, 3, 2, 5, 8, 8]])"
      ]
     },
     "execution_count": 14,
     "metadata": {},
     "output_type": "execute_result"
    }
   ],
   "source": [
    "np.append(np_4,np_5,axis=1)"
   ]
  },
  {
   "cell_type": "code",
   "execution_count": 15,
   "id": "af6b751d",
   "metadata": {},
   "outputs": [],
   "source": [
    "np_4 = np.random.randint(1,5,size=(3,1))\n",
    "np_5 = np.random.randint(5,9,size=(3,3))"
   ]
  },
  {
   "cell_type": "code",
   "execution_count": 16,
   "id": "f3df22a6",
   "metadata": {},
   "outputs": [
    {
     "data": {
      "text/plain": [
       "array([[1],\n",
       "       [3],\n",
       "       [3]])"
      ]
     },
     "execution_count": 16,
     "metadata": {},
     "output_type": "execute_result"
    }
   ],
   "source": [
    "np_4"
   ]
  },
  {
   "cell_type": "code",
   "execution_count": 17,
   "id": "aa3230ca",
   "metadata": {},
   "outputs": [
    {
     "data": {
      "text/plain": [
       "array([[7, 6, 6],\n",
       "       [8, 5, 8],\n",
       "       [8, 8, 6]])"
      ]
     },
     "execution_count": 17,
     "metadata": {},
     "output_type": "execute_result"
    }
   ],
   "source": [
    "np_5"
   ]
  },
  {
   "cell_type": "code",
   "execution_count": 18,
   "id": "c4f48e6c",
   "metadata": {},
   "outputs": [
    {
     "data": {
      "text/plain": [
       "array([[1, 7, 6, 6],\n",
       "       [3, 8, 5, 8],\n",
       "       [3, 8, 8, 6]])"
      ]
     },
     "execution_count": 18,
     "metadata": {},
     "output_type": "execute_result"
    }
   ],
   "source": [
    "np.hstack((np_4,np_5))"
   ]
  },
  {
   "cell_type": "code",
   "execution_count": 19,
   "id": "8335cd65",
   "metadata": {},
   "outputs": [
    {
     "ename": "ValueError",
     "evalue": "all the input array dimensions for the concatenation axis must match exactly, but along dimension 1, the array at index 0 has size 1 and the array at index 1 has size 3",
     "output_type": "error",
     "traceback": [
      "\u001b[1;31m---------------------------------------------------------------------------\u001b[0m",
      "\u001b[1;31mValueError\u001b[0m                                Traceback (most recent call last)",
      "Input \u001b[1;32mIn [19]\u001b[0m, in \u001b[0;36m<cell line: 1>\u001b[1;34m()\u001b[0m\n\u001b[1;32m----> 1\u001b[0m \u001b[43mnp\u001b[49m\u001b[38;5;241;43m.\u001b[39;49m\u001b[43mvstack\u001b[49m\u001b[43m(\u001b[49m\u001b[43m(\u001b[49m\u001b[43mnp_4\u001b[49m\u001b[43m,\u001b[49m\u001b[43mnp_5\u001b[49m\u001b[43m)\u001b[49m\u001b[43m)\u001b[49m\n",
      "File \u001b[1;32m<__array_function__ internals>:180\u001b[0m, in \u001b[0;36mvstack\u001b[1;34m(*args, **kwargs)\u001b[0m\n",
      "File \u001b[1;32m~\\AppData\\Local\\Programs\\Python\\Python39\\lib\\site-packages\\numpy\\core\\shape_base.py:282\u001b[0m, in \u001b[0;36mvstack\u001b[1;34m(tup)\u001b[0m\n\u001b[0;32m    280\u001b[0m \u001b[38;5;28;01mif\u001b[39;00m \u001b[38;5;129;01mnot\u001b[39;00m \u001b[38;5;28misinstance\u001b[39m(arrs, \u001b[38;5;28mlist\u001b[39m):\n\u001b[0;32m    281\u001b[0m     arrs \u001b[38;5;241m=\u001b[39m [arrs]\n\u001b[1;32m--> 282\u001b[0m \u001b[38;5;28;01mreturn\u001b[39;00m \u001b[43m_nx\u001b[49m\u001b[38;5;241;43m.\u001b[39;49m\u001b[43mconcatenate\u001b[49m\u001b[43m(\u001b[49m\u001b[43marrs\u001b[49m\u001b[43m,\u001b[49m\u001b[43m \u001b[49m\u001b[38;5;241;43m0\u001b[39;49m\u001b[43m)\u001b[49m\n",
      "File \u001b[1;32m<__array_function__ internals>:180\u001b[0m, in \u001b[0;36mconcatenate\u001b[1;34m(*args, **kwargs)\u001b[0m\n",
      "\u001b[1;31mValueError\u001b[0m: all the input array dimensions for the concatenation axis must match exactly, but along dimension 1, the array at index 0 has size 1 and the array at index 1 has size 3"
     ]
    }
   ],
   "source": [
    "np.vstack((np_4,np_5)) # vertikal shapelari to'g'ri kelmaydi "
   ]
  },
  {
   "cell_type": "code",
   "execution_count": null,
   "id": "002101bf",
   "metadata": {},
   "outputs": [],
   "source": [
    "np_4 = np.random.randint(1,5,size=(1,3))\n",
    "np_5 = np.random.randint(5,9,size=(3,3))"
   ]
  },
  {
   "cell_type": "code",
   "execution_count": null,
   "id": "2a55e516",
   "metadata": {},
   "outputs": [],
   "source": [
    "np_4"
   ]
  },
  {
   "cell_type": "code",
   "execution_count": null,
   "id": "712caf4c",
   "metadata": {},
   "outputs": [],
   "source": [
    "np_5"
   ]
  },
  {
   "cell_type": "code",
   "execution_count": 21,
   "id": "3e5ea602",
   "metadata": {},
   "outputs": [
    {
     "data": {
      "text/plain": [
       "array([[1, 7, 6, 6],\n",
       "       [3, 8, 5, 8],\n",
       "       [3, 8, 8, 6]])"
      ]
     },
     "execution_count": 21,
     "metadata": {},
     "output_type": "execute_result"
    }
   ],
   "source": [
    "np.hstack((np_4,np_5)) "
   ]
  },
  {
   "cell_type": "code",
   "execution_count": 32,
   "id": "07bb625f",
   "metadata": {},
   "outputs": [
    {
     "ename": "ValueError",
     "evalue": "all the input array dimensions for the concatenation axis must match exactly, but along dimension 1, the array at index 0 has size 2 and the array at index 1 has size 3",
     "output_type": "error",
     "traceback": [
      "\u001b[1;31m---------------------------------------------------------------------------\u001b[0m",
      "\u001b[1;31mValueError\u001b[0m                                Traceback (most recent call last)",
      "Input \u001b[1;32mIn [32]\u001b[0m, in \u001b[0;36m<cell line: 1>\u001b[1;34m()\u001b[0m\n\u001b[1;32m----> 1\u001b[0m \u001b[43mnp\u001b[49m\u001b[38;5;241;43m.\u001b[39;49m\u001b[43mvstack\u001b[49m\u001b[43m(\u001b[49m\u001b[43m(\u001b[49m\u001b[43mnp_4\u001b[49m\u001b[43m,\u001b[49m\u001b[43mnp_5\u001b[49m\u001b[43m)\u001b[49m\u001b[43m)\u001b[49m\n",
      "File \u001b[1;32m<__array_function__ internals>:180\u001b[0m, in \u001b[0;36mvstack\u001b[1;34m(*args, **kwargs)\u001b[0m\n",
      "File \u001b[1;32m~\\AppData\\Local\\Programs\\Python\\Python39\\lib\\site-packages\\numpy\\core\\shape_base.py:282\u001b[0m, in \u001b[0;36mvstack\u001b[1;34m(tup)\u001b[0m\n\u001b[0;32m    280\u001b[0m \u001b[38;5;28;01mif\u001b[39;00m \u001b[38;5;129;01mnot\u001b[39;00m \u001b[38;5;28misinstance\u001b[39m(arrs, \u001b[38;5;28mlist\u001b[39m):\n\u001b[0;32m    281\u001b[0m     arrs \u001b[38;5;241m=\u001b[39m [arrs]\n\u001b[1;32m--> 282\u001b[0m \u001b[38;5;28;01mreturn\u001b[39;00m \u001b[43m_nx\u001b[49m\u001b[38;5;241;43m.\u001b[39;49m\u001b[43mconcatenate\u001b[49m\u001b[43m(\u001b[49m\u001b[43marrs\u001b[49m\u001b[43m,\u001b[49m\u001b[43m \u001b[49m\u001b[38;5;241;43m0\u001b[39;49m\u001b[43m)\u001b[49m\n",
      "File \u001b[1;32m<__array_function__ internals>:180\u001b[0m, in \u001b[0;36mconcatenate\u001b[1;34m(*args, **kwargs)\u001b[0m\n",
      "\u001b[1;31mValueError\u001b[0m: all the input array dimensions for the concatenation axis must match exactly, but along dimension 1, the array at index 0 has size 2 and the array at index 1 has size 3"
     ]
    }
   ],
   "source": [
    "np.vstack((np_4,np_5)) # vertikal shapelari to'g'ri kelmaydi "
   ]
  },
  {
   "cell_type": "code",
   "execution_count": 22,
   "id": "66b50491",
   "metadata": {},
   "outputs": [],
   "source": [
    "np_4 = np.random.randint(1,5,size=(3,2))\n",
    "np_5 = np.random.randint(5,9,size=(3))"
   ]
  },
  {
   "cell_type": "code",
   "execution_count": 23,
   "id": "c1187f35",
   "metadata": {},
   "outputs": [
    {
     "data": {
      "text/plain": [
       "array([[2, 4],\n",
       "       [4, 4],\n",
       "       [3, 1]])"
      ]
     },
     "execution_count": 23,
     "metadata": {},
     "output_type": "execute_result"
    }
   ],
   "source": [
    "np_4"
   ]
  },
  {
   "cell_type": "code",
   "execution_count": 24,
   "id": "19115332",
   "metadata": {},
   "outputs": [
    {
     "data": {
      "text/plain": [
       "array([7, 5, 8])"
      ]
     },
     "execution_count": 24,
     "metadata": {},
     "output_type": "execute_result"
    }
   ],
   "source": [
    "np_5"
   ]
  },
  {
   "cell_type": "code",
   "execution_count": 25,
   "id": "8b666420",
   "metadata": {},
   "outputs": [
    {
     "data": {
      "text/plain": [
       "array([[7],\n",
       "       [5],\n",
       "       [8]])"
      ]
     },
     "execution_count": 25,
     "metadata": {},
     "output_type": "execute_result"
    }
   ],
   "source": [
    "x = np_5[:,None]\n",
    "x"
   ]
  },
  {
   "cell_type": "code",
   "execution_count": 26,
   "id": "65c820e4",
   "metadata": {},
   "outputs": [
    {
     "data": {
      "text/plain": [
       "array([[2, 4, 7],\n",
       "       [4, 4, 5],\n",
       "       [3, 1, 8]])"
      ]
     },
     "execution_count": 26,
     "metadata": {},
     "output_type": "execute_result"
    }
   ],
   "source": [
    "np.hstack((np_4,np_5[:,None]))"
   ]
  },
  {
   "cell_type": "markdown",
   "id": "fafc3fe2",
   "metadata": {},
   "source": [
    "**`np.column_stack`**"
   ]
  },
  {
   "cell_type": "code",
   "execution_count": 27,
   "id": "c3b06047",
   "metadata": {},
   "outputs": [],
   "source": [
    "np_4 = np.random.randint(1,5,size=(3,2))\n",
    "np_5 = np.random.randint(5,9,size=(3))"
   ]
  },
  {
   "cell_type": "code",
   "execution_count": 28,
   "id": "f31e03ef",
   "metadata": {},
   "outputs": [
    {
     "data": {
      "text/plain": [
       "array([[4, 1],\n",
       "       [3, 4],\n",
       "       [4, 3]])"
      ]
     },
     "execution_count": 28,
     "metadata": {},
     "output_type": "execute_result"
    }
   ],
   "source": [
    "np_4"
   ]
  },
  {
   "cell_type": "code",
   "execution_count": 29,
   "id": "7a3e8c87",
   "metadata": {},
   "outputs": [
    {
     "data": {
      "text/plain": [
       "array([7, 8, 8])"
      ]
     },
     "execution_count": 29,
     "metadata": {},
     "output_type": "execute_result"
    }
   ],
   "source": [
    "np_5"
   ]
  },
  {
   "cell_type": "code",
   "execution_count": 30,
   "id": "370ffbb0",
   "metadata": {
    "scrolled": true
   },
   "outputs": [
    {
     "data": {
      "text/plain": [
       "array([[4, 1, 7],\n",
       "       [3, 4, 8],\n",
       "       [4, 3, 8]])"
      ]
     },
     "execution_count": 30,
     "metadata": {},
     "output_type": "execute_result"
    }
   ],
   "source": [
    "np.column_stack((np_4,np_5)) #bir biriga to'g'ri kelmasa uzi tog'irlab qo'shib beradi tepadagiga o'xshab"
   ]
  }
 ],
 "metadata": {
  "kernelspec": {
   "display_name": "Python 3 (ipykernel)",
   "language": "python",
   "name": "python3"
  },
  "language_info": {
   "codemirror_mode": {
    "name": "ipython",
    "version": 3
   },
   "file_extension": ".py",
   "mimetype": "text/x-python",
   "name": "python",
   "nbconvert_exporter": "python",
   "pygments_lexer": "ipython3",
   "version": "3.9.8"
  }
 },
 "nbformat": 4,
 "nbformat_minor": 5
}
