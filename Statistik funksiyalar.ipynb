{
 "cells": [
  {
   "cell_type": "markdown",
   "id": "49540af5",
   "metadata": {},
   "source": [
    "# Statistik funksiyalar\n",
    "* `np.sum` - summasini chiqarib beradi.Axislar bo'yicha ham ishlaydi\n",
    "* `np.mean` - o'rtacha qiymat(o'rta arifmetik)\n",
    "* `np.std` - machine learning da o'rganamiz!!!\n",
    "* `np.var` - machine learning da o'rganamiz!!!\n",
    "* `np.cumsum` - o'zidan oldini yeg'indiga qo'shib ketaveradi(fibonachi sonlari mexanizmidek ishlaydi)\n",
    "* `np.cumprod` - o'zidan oldini ko'paytmaga ko'paytirib ketaveradi\n",
    "* `np.min`- minimumini topib beradi\n",
    "* `np.max`- maximumini topib beradi"
   ]
  },
  {
   "cell_type": "markdown",
   "id": "83ba939e",
   "metadata": {},
   "source": [
    "**`Numpy kutubxonasini chaqirib olamiz`**"
   ]
  },
  {
   "cell_type": "code",
   "execution_count": 1,
   "id": "d2a47f44",
   "metadata": {},
   "outputs": [],
   "source": [
    "import numpy as np"
   ]
  },
  {
   "cell_type": "code",
   "execution_count": 2,
   "id": "b9ca7c02",
   "metadata": {},
   "outputs": [
    {
     "data": {
      "text/plain": [
       "array([[2, 2, 3, 1, 2],\n",
       "       [2, 2, 2, 1, 1],\n",
       "       [2, 2, 1, 1, 1],\n",
       "       [2, 3, 2, 3, 2],\n",
       "       [2, 3, 3, 1, 2]])"
      ]
     },
     "execution_count": 2,
     "metadata": {},
     "output_type": "execute_result"
    }
   ],
   "source": [
    "np_1 = np.random.randint(1,4,size=(5,5))\n",
    "np_1"
   ]
  },
  {
   "cell_type": "markdown",
   "id": "b34dc499",
   "metadata": {},
   "source": [
    "**`np.sum`**"
   ]
  },
  {
   "cell_type": "code",
   "execution_count": 3,
   "id": "b19f6092",
   "metadata": {},
   "outputs": [
    {
     "data": {
      "text/plain": [
       "48"
      ]
     },
     "execution_count": 3,
     "metadata": {},
     "output_type": "execute_result"
    }
   ],
   "source": [
    "np.sum(np_1)"
   ]
  },
  {
   "cell_type": "code",
   "execution_count": 4,
   "id": "0534ff6c",
   "metadata": {},
   "outputs": [
    {
     "data": {
      "text/plain": [
       "48"
      ]
     },
     "execution_count": 4,
     "metadata": {},
     "output_type": "execute_result"
    }
   ],
   "source": [
    "np_1.sum()"
   ]
  },
  {
   "cell_type": "code",
   "execution_count": 5,
   "id": "672eada3",
   "metadata": {},
   "outputs": [
    {
     "data": {
      "text/plain": [
       "array([10, 12, 11,  7,  8])"
      ]
     },
     "execution_count": 5,
     "metadata": {},
     "output_type": "execute_result"
    }
   ],
   "source": [
    "np.sum(np_1,axis=0) # 0 - y o'qi bo'yicha sum qiladi"
   ]
  },
  {
   "cell_type": "code",
   "execution_count": 6,
   "id": "e98dc2a4",
   "metadata": {},
   "outputs": [
    {
     "data": {
      "text/plain": [
       "array([10,  8,  7, 12, 11])"
      ]
     },
     "execution_count": 6,
     "metadata": {},
     "output_type": "execute_result"
    }
   ],
   "source": [
    "np.sum(np_1,axis=1) # 1 - x o'qi bo'yicha sum qiladi"
   ]
  },
  {
   "cell_type": "code",
   "execution_count": 7,
   "id": "7ce98d84",
   "metadata": {},
   "outputs": [
    {
     "data": {
      "text/plain": [
       "array([[[2, 3, 3],\n",
       "        [2, 3, 1]],\n",
       "\n",
       "       [[3, 2, 2],\n",
       "        [1, 2, 3]],\n",
       "\n",
       "       [[1, 2, 3],\n",
       "        [1, 2, 1]]])"
      ]
     },
     "execution_count": 7,
     "metadata": {},
     "output_type": "execute_result"
    }
   ],
   "source": [
    "np_2 = np.random.randint(1,4,size=(3,2,3))\n",
    "np_2"
   ]
  },
  {
   "cell_type": "code",
   "execution_count": 8,
   "id": "55b733dc",
   "metadata": {},
   "outputs": [
    {
     "data": {
      "text/plain": [
       "3"
      ]
     },
     "execution_count": 8,
     "metadata": {},
     "output_type": "execute_result"
    }
   ],
   "source": [
    "np.ndim(np_2)"
   ]
  },
  {
   "cell_type": "code",
   "execution_count": 9,
   "id": "759b92ff",
   "metadata": {},
   "outputs": [
    {
     "data": {
      "text/plain": [
       "37"
      ]
     },
     "execution_count": 9,
     "metadata": {},
     "output_type": "execute_result"
    }
   ],
   "source": [
    "np.sum(np_2)"
   ]
  },
  {
   "cell_type": "code",
   "execution_count": 10,
   "id": "23ccff59",
   "metadata": {},
   "outputs": [
    {
     "data": {
      "text/plain": [
       "array([[6, 7, 8],\n",
       "       [4, 7, 5]])"
      ]
     },
     "execution_count": 10,
     "metadata": {},
     "output_type": "execute_result"
    }
   ],
   "source": [
    "# axis=0  3dim da o'rni bo'yicha sum qiladi ya'ni 01+01+01+01 hamma bir xil o'rindagilarni sum qilib chiqadi\n",
    "np.sum(np_2,axis=0) "
   ]
  },
  {
   "cell_type": "code",
   "execution_count": 11,
   "id": "58231dca",
   "metadata": {},
   "outputs": [
    {
     "data": {
      "text/plain": [
       "array([[4, 6, 4],\n",
       "       [4, 4, 5],\n",
       "       [2, 4, 4]])"
      ]
     },
     "execution_count": 11,
     "metadata": {},
     "output_type": "execute_result"
    }
   ],
   "source": [
    "np.sum(np_2,axis=1) # axis=1  3dim da ustun bo'yicha sum qiladi"
   ]
  },
  {
   "cell_type": "code",
   "execution_count": 12,
   "id": "5063bf80",
   "metadata": {
    "scrolled": false
   },
   "outputs": [
    {
     "data": {
      "text/plain": [
       "array([[8, 6],\n",
       "       [7, 6],\n",
       "       [6, 4]])"
      ]
     },
     "execution_count": 12,
     "metadata": {},
     "output_type": "execute_result"
    }
   ],
   "source": [
    "np.sum(np_2,axis=2) # axis=2  3dim da satr bo'yicha sum qiladi"
   ]
  },
  {
   "cell_type": "code",
   "execution_count": 13,
   "id": "55b0e028",
   "metadata": {},
   "outputs": [
    {
     "data": {
      "text/plain": [
       "array([[[[2, 2, 1],\n",
       "         [3, 2, 1]],\n",
       "\n",
       "        [[3, 3, 1],\n",
       "         [3, 2, 3]],\n",
       "\n",
       "        [[2, 1, 1],\n",
       "         [3, 3, 1]],\n",
       "\n",
       "        [[2, 1, 1],\n",
       "         [1, 1, 2]]],\n",
       "\n",
       "\n",
       "       [[[3, 3, 2],\n",
       "         [3, 3, 2]],\n",
       "\n",
       "        [[1, 1, 1],\n",
       "         [2, 3, 2]],\n",
       "\n",
       "        [[1, 1, 3],\n",
       "         [2, 3, 2]],\n",
       "\n",
       "        [[1, 2, 2],\n",
       "         [1, 1, 3]]],\n",
       "\n",
       "\n",
       "       [[[3, 1, 3],\n",
       "         [3, 3, 2]],\n",
       "\n",
       "        [[3, 1, 3],\n",
       "         [2, 2, 3]],\n",
       "\n",
       "        [[3, 3, 1],\n",
       "         [1, 2, 2]],\n",
       "\n",
       "        [[3, 3, 1],\n",
       "         [2, 3, 2]]]])"
      ]
     },
     "execution_count": 13,
     "metadata": {},
     "output_type": "execute_result"
    }
   ],
   "source": [
    "np_4 = np.random.randint(1,4,size=(3,4,2,3))\n",
    "np_4"
   ]
  },
  {
   "cell_type": "code",
   "execution_count": 14,
   "id": "cbd6e5a0",
   "metadata": {},
   "outputs": [
    {
     "data": {
      "text/plain": [
       "4"
      ]
     },
     "execution_count": 14,
     "metadata": {},
     "output_type": "execute_result"
    }
   ],
   "source": [
    "np.ndim(np_4)"
   ]
  },
  {
   "cell_type": "code",
   "execution_count": 15,
   "id": "7a00ad32",
   "metadata": {},
   "outputs": [
    {
     "data": {
      "text/plain": [
       "148"
      ]
     },
     "execution_count": 15,
     "metadata": {},
     "output_type": "execute_result"
    }
   ],
   "source": [
    "np.sum(np_4)"
   ]
  },
  {
   "cell_type": "code",
   "execution_count": 16,
   "id": "4f7d2c08",
   "metadata": {},
   "outputs": [
    {
     "data": {
      "text/plain": [
       "array([[[8, 6, 6],\n",
       "        [9, 8, 5]],\n",
       "\n",
       "       [[7, 5, 5],\n",
       "        [7, 7, 8]],\n",
       "\n",
       "       [[6, 5, 5],\n",
       "        [6, 8, 5]],\n",
       "\n",
       "       [[6, 6, 4],\n",
       "        [4, 5, 7]]])"
      ]
     },
     "execution_count": 16,
     "metadata": {},
     "output_type": "execute_result"
    }
   ],
   "source": [
    "# axis=0  4dim da o'rni bo'yicha sum qiladi ya'ni 01+01+01+01 hamma bir xil o'rindagilarni sum qilib chiqadi\n",
    "np.sum(np_4,axis=0)"
   ]
  },
  {
   "cell_type": "code",
   "execution_count": 17,
   "id": "e8d3e453",
   "metadata": {},
   "outputs": [
    {
     "data": {
      "text/plain": [
       "array([[[ 9,  7,  4],\n",
       "        [10,  8,  7]],\n",
       "\n",
       "       [[ 6,  7,  8],\n",
       "        [ 8, 10,  9]],\n",
       "\n",
       "       [[12,  8,  8],\n",
       "        [ 8, 10,  9]]])"
      ]
     },
     "execution_count": 17,
     "metadata": {},
     "output_type": "execute_result"
    }
   ],
   "source": [
    "np.sum(np_4,axis=1) # axis=1  4dim da har bitta 3dim nining mos indexdagilari qo'shiladi"
   ]
  },
  {
   "cell_type": "code",
   "execution_count": 18,
   "id": "c443a5ca",
   "metadata": {},
   "outputs": [
    {
     "data": {
      "text/plain": [
       "array([[[5, 4, 2],\n",
       "        [6, 5, 4],\n",
       "        [5, 4, 2],\n",
       "        [3, 2, 3]],\n",
       "\n",
       "       [[6, 6, 4],\n",
       "        [3, 4, 3],\n",
       "        [3, 4, 5],\n",
       "        [2, 3, 5]],\n",
       "\n",
       "       [[6, 4, 5],\n",
       "        [5, 3, 6],\n",
       "        [4, 5, 3],\n",
       "        [5, 6, 3]]])"
      ]
     },
     "execution_count": 18,
     "metadata": {},
     "output_type": "execute_result"
    }
   ],
   "source": [
    "np.sum(np_4,axis=2) # axis=2  4dim da har bitta 3dimning ustunlari qo'shiladi"
   ]
  },
  {
   "cell_type": "code",
   "execution_count": 19,
   "id": "d6f0238f",
   "metadata": {},
   "outputs": [
    {
     "data": {
      "text/plain": [
       "array([[[5, 6],\n",
       "        [7, 8],\n",
       "        [4, 7],\n",
       "        [4, 4]],\n",
       "\n",
       "       [[8, 8],\n",
       "        [3, 7],\n",
       "        [5, 7],\n",
       "        [5, 5]],\n",
       "\n",
       "       [[7, 8],\n",
       "        [7, 7],\n",
       "        [7, 5],\n",
       "        [7, 7]]])"
      ]
     },
     "execution_count": 19,
     "metadata": {},
     "output_type": "execute_result"
    }
   ],
   "source": [
    "np.sum(np_4,axis=3) # axis=3  4dim da har bitta 3dimning satrlari qo'shiladi"
   ]
  },
  {
   "cell_type": "markdown",
   "id": "2c72fba2",
   "metadata": {},
   "source": [
    "**`np.mean`**"
   ]
  },
  {
   "cell_type": "code",
   "execution_count": 21,
   "id": "fe63c152",
   "metadata": {},
   "outputs": [
    {
     "data": {
      "text/plain": [
       "array([[[1, 2, 3],\n",
       "        [1, 2, 1],\n",
       "        [1, 2, 1],\n",
       "        [3, 1, 2]],\n",
       "\n",
       "       [[1, 2, 2],\n",
       "        [1, 2, 1],\n",
       "        [1, 1, 3],\n",
       "        [3, 2, 1]]])"
      ]
     },
     "execution_count": 21,
     "metadata": {},
     "output_type": "execute_result"
    }
   ],
   "source": [
    "np_3 = np.random.randint(1,4,size=(2,4,3))\n",
    "np_3"
   ]
  },
  {
   "cell_type": "code",
   "execution_count": 22,
   "id": "c2313f56",
   "metadata": {},
   "outputs": [
    {
     "data": {
      "text/plain": [
       "1.75"
      ]
     },
     "execution_count": 22,
     "metadata": {},
     "output_type": "execute_result"
    }
   ],
   "source": [
    "np.mean(np_3[:,:,2:])"
   ]
  },
  {
   "cell_type": "code",
   "execution_count": 23,
   "id": "08ff694e",
   "metadata": {},
   "outputs": [
    {
     "data": {
      "text/plain": [
       "1.6666666666666667"
      ]
     },
     "execution_count": 23,
     "metadata": {},
     "output_type": "execute_result"
    }
   ],
   "source": [
    "np.mean(np_3)"
   ]
  },
  {
   "cell_type": "code",
   "execution_count": 24,
   "id": "5418cb4b",
   "metadata": {},
   "outputs": [
    {
     "data": {
      "text/plain": [
       "array([[1. , 2. , 2.5],\n",
       "       [1. , 2. , 1. ],\n",
       "       [1. , 1.5, 2. ],\n",
       "       [3. , 1.5, 1.5]])"
      ]
     },
     "execution_count": 24,
     "metadata": {},
     "output_type": "execute_result"
    }
   ],
   "source": [
    "np.mean(np_3,axis=0)"
   ]
  },
  {
   "cell_type": "code",
   "execution_count": 25,
   "id": "96200b30",
   "metadata": {},
   "outputs": [
    {
     "data": {
      "text/plain": [
       "array([[1.5 , 1.75, 1.75],\n",
       "       [1.5 , 1.75, 1.75]])"
      ]
     },
     "execution_count": 25,
     "metadata": {},
     "output_type": "execute_result"
    }
   ],
   "source": [
    "np.mean(np_3,axis=1)"
   ]
  },
  {
   "cell_type": "code",
   "execution_count": 26,
   "id": "8577645a",
   "metadata": {},
   "outputs": [
    {
     "data": {
      "text/plain": [
       "array([[2.        , 1.33333333, 1.33333333, 2.        ],\n",
       "       [1.66666667, 1.33333333, 1.66666667, 2.        ]])"
      ]
     },
     "execution_count": 26,
     "metadata": {},
     "output_type": "execute_result"
    }
   ],
   "source": [
    "np.mean(np_3,axis=2)"
   ]
  },
  {
   "cell_type": "markdown",
   "id": "0bad9519",
   "metadata": {},
   "source": [
    "**`np.cumsum`**"
   ]
  },
  {
   "cell_type": "code",
   "execution_count": 27,
   "id": "04be124d",
   "metadata": {},
   "outputs": [
    {
     "data": {
      "text/plain": [
       "array([  2,   4,   5,   8,  10,  11,  14,  17,  18,  21,  23,  26,  28,\n",
       "        29,  30,  33,  36,  37,  39,  40,  41,  42,  43,  45,  48,  51,\n",
       "        53,  56,  59,  61,  62,  63,  64,  66,  69,  71,  72,  73,  76,\n",
       "        78,  81,  83,  84,  86,  88,  89,  90,  93,  96,  97, 100, 103,\n",
       "       106, 108, 111, 112, 115, 117, 119, 122, 125, 128, 129, 130, 132,\n",
       "       134, 137, 140, 141, 143, 146, 148])"
      ]
     },
     "execution_count": 27,
     "metadata": {},
     "output_type": "execute_result"
    }
   ],
   "source": [
    "np.cumsum(np_4)"
   ]
  },
  {
   "cell_type": "code",
   "execution_count": 28,
   "id": "c123cd11",
   "metadata": {},
   "outputs": [
    {
     "data": {
      "text/plain": [
       "array([[[1, 2, 3],\n",
       "        [1, 2, 1],\n",
       "        [1, 2, 1],\n",
       "        [3, 1, 2]],\n",
       "\n",
       "       [[2, 4, 5],\n",
       "        [2, 4, 2],\n",
       "        [2, 3, 4],\n",
       "        [6, 3, 3]]])"
      ]
     },
     "execution_count": 28,
     "metadata": {},
     "output_type": "execute_result"
    }
   ],
   "source": [
    "np.cumsum(np_3,axis=0)"
   ]
  },
  {
   "cell_type": "markdown",
   "id": "15234221",
   "metadata": {},
   "source": [
    "**`np.cumprod`**"
   ]
  },
  {
   "cell_type": "code",
   "execution_count": 29,
   "id": "dbaa5236",
   "metadata": {},
   "outputs": [
    {
     "data": {
      "text/plain": [
       "array([[[2, 3, 3],\n",
       "        [2, 3, 1]],\n",
       "\n",
       "       [[3, 2, 2],\n",
       "        [1, 2, 3]],\n",
       "\n",
       "       [[1, 2, 3],\n",
       "        [1, 2, 1]]])"
      ]
     },
     "execution_count": 29,
     "metadata": {},
     "output_type": "execute_result"
    }
   ],
   "source": [
    "np_2"
   ]
  },
  {
   "cell_type": "code",
   "execution_count": 30,
   "id": "c10c14f7",
   "metadata": {},
   "outputs": [
    {
     "data": {
      "text/plain": [
       "array([    2,     6,    18,    36,   108,   108,   324,   648,  1296,\n",
       "        1296,  2592,  7776,  7776, 15552, 46656, 46656, 93312, 93312])"
      ]
     },
     "execution_count": 30,
     "metadata": {},
     "output_type": "execute_result"
    }
   ],
   "source": [
    "np.cumprod(np_2)"
   ]
  },
  {
   "cell_type": "code",
   "execution_count": 31,
   "id": "ae8f05c0",
   "metadata": {},
   "outputs": [
    {
     "data": {
      "text/plain": [
       "array([[[ 2,  3,  3],\n",
       "        [ 2,  3,  1]],\n",
       "\n",
       "       [[ 6,  6,  6],\n",
       "        [ 2,  6,  3]],\n",
       "\n",
       "       [[ 6, 12, 18],\n",
       "        [ 2, 12,  3]]])"
      ]
     },
     "execution_count": 31,
     "metadata": {},
     "output_type": "execute_result"
    }
   ],
   "source": [
    "np.cumprod(np_2,axis=0)"
   ]
  },
  {
   "cell_type": "markdown",
   "id": "5b1b11b4",
   "metadata": {},
   "source": [
    "**`np.min`**"
   ]
  },
  {
   "cell_type": "code",
   "execution_count": 32,
   "id": "cb35f994",
   "metadata": {},
   "outputs": [
    {
     "data": {
      "text/plain": [
       "array([[[2, 3, 3],\n",
       "        [2, 3, 1]],\n",
       "\n",
       "       [[3, 2, 2],\n",
       "        [1, 2, 3]],\n",
       "\n",
       "       [[1, 2, 3],\n",
       "        [1, 2, 1]]])"
      ]
     },
     "execution_count": 32,
     "metadata": {},
     "output_type": "execute_result"
    }
   ],
   "source": [
    "np_2"
   ]
  },
  {
   "cell_type": "code",
   "execution_count": 33,
   "id": "76d687d2",
   "metadata": {},
   "outputs": [
    {
     "data": {
      "text/plain": [
       "1"
      ]
     },
     "execution_count": 33,
     "metadata": {},
     "output_type": "execute_result"
    }
   ],
   "source": [
    "np.min(np_2)"
   ]
  },
  {
   "cell_type": "code",
   "execution_count": 41,
   "id": "67c7ff5d",
   "metadata": {},
   "outputs": [
    {
     "data": {
      "text/plain": [
       "array([[1, 2, 2],\n",
       "       [1, 2, 1]])"
      ]
     },
     "execution_count": 41,
     "metadata": {},
     "output_type": "execute_result"
    }
   ],
   "source": [
    "np.min(np_2,axis=0) # element turgan o'rni bo'yicha bo'yicha min oladi va yangi matrix qaytaradi"
   ]
  },
  {
   "cell_type": "code",
   "execution_count": 34,
   "id": "b96eef1b",
   "metadata": {},
   "outputs": [
    {
     "data": {
      "text/plain": [
       "array([[2, 3, 1],\n",
       "       [1, 2, 2],\n",
       "       [1, 2, 1]])"
      ]
     },
     "execution_count": 34,
     "metadata": {},
     "output_type": "execute_result"
    }
   ],
   "source": [
    "np.min(np_2,axis=1) # har bir yaxlit matrixni ustunlari bo'yicha min oladi va yangi matrix qaytaradi"
   ]
  },
  {
   "cell_type": "code",
   "execution_count": 35,
   "id": "698f42bb",
   "metadata": {},
   "outputs": [
    {
     "data": {
      "text/plain": [
       "array([[2, 1],\n",
       "       [2, 1],\n",
       "       [1, 1]])"
      ]
     },
     "execution_count": 35,
     "metadata": {},
     "output_type": "execute_result"
    }
   ],
   "source": [
    "np.min(np_2,axis=2) # har bir yaxlit matrixni satrlari bo'yicha min oladi va yangi matrix qaytaradi"
   ]
  },
  {
   "cell_type": "markdown",
   "id": "8c7af3bc",
   "metadata": {},
   "source": [
    "**`np.max`**"
   ]
  },
  {
   "cell_type": "code",
   "execution_count": 36,
   "id": "4de90059",
   "metadata": {},
   "outputs": [
    {
     "data": {
      "text/plain": [
       "array([[[2, 3, 3],\n",
       "        [2, 3, 1]],\n",
       "\n",
       "       [[3, 2, 2],\n",
       "        [1, 2, 3]],\n",
       "\n",
       "       [[1, 2, 3],\n",
       "        [1, 2, 1]]])"
      ]
     },
     "execution_count": 36,
     "metadata": {},
     "output_type": "execute_result"
    }
   ],
   "source": [
    "np_2"
   ]
  },
  {
   "cell_type": "code",
   "execution_count": 37,
   "id": "ce0ce954",
   "metadata": {},
   "outputs": [
    {
     "data": {
      "text/plain": [
       "3"
      ]
     },
     "execution_count": 37,
     "metadata": {},
     "output_type": "execute_result"
    }
   ],
   "source": [
    "np.max(np_2)"
   ]
  },
  {
   "cell_type": "code",
   "execution_count": 38,
   "id": "f5eec57a",
   "metadata": {},
   "outputs": [
    {
     "data": {
      "text/plain": [
       "array([[2, 3, 3],\n",
       "       [3, 2, 3],\n",
       "       [1, 2, 3]])"
      ]
     },
     "execution_count": 38,
     "metadata": {},
     "output_type": "execute_result"
    }
   ],
   "source": [
    "np.max(np_2,axis=1)"
   ]
  },
  {
   "cell_type": "code",
   "execution_count": 39,
   "id": "733d4d03",
   "metadata": {
    "scrolled": true
   },
   "outputs": [
    {
     "data": {
      "text/plain": [
       "array([[3, 3],\n",
       "       [3, 3],\n",
       "       [3, 2]])"
      ]
     },
     "execution_count": 39,
     "metadata": {},
     "output_type": "execute_result"
    }
   ],
   "source": [
    "np.max(np_2,axis=2)"
   ]
  }
 ],
 "metadata": {
  "kernelspec": {
   "display_name": "Python 3 (ipykernel)",
   "language": "python",
   "name": "python3"
  },
  "language_info": {
   "codemirror_mode": {
    "name": "ipython",
    "version": 3
   },
   "file_extension": ".py",
   "mimetype": "text/x-python",
   "name": "python",
   "nbconvert_exporter": "python",
   "pygments_lexer": "ipython3",
   "version": "3.9.8"
  }
 },
 "nbformat": 4,
 "nbformat_minor": 5
}
