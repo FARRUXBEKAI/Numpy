{
 "cells": [
  {
   "cell_type": "markdown",
   "id": "e34d2b0c",
   "metadata": {},
   "source": [
    "# Ndarray ustida amallar\n",
    "* np array vektorni ishlaydi yani ichiga tasir qiladi"
   ]
  },
  {
   "cell_type": "markdown",
   "id": "83ba939e",
   "metadata": {},
   "source": [
    "**`Numpy kutubxonasini chaqirib olamiz`**"
   ]
  },
  {
   "cell_type": "code",
   "execution_count": 1,
   "id": "d2a47f44",
   "metadata": {},
   "outputs": [],
   "source": [
    "import numpy as np"
   ]
  },
  {
   "cell_type": "code",
   "execution_count": 2,
   "id": "ef95ac79",
   "metadata": {},
   "outputs": [],
   "source": [
    "np_2 = np.array([1,2,3,4,5,6,7,8])"
   ]
  },
  {
   "cell_type": "code",
   "execution_count": 3,
   "id": "6833a2a6",
   "metadata": {},
   "outputs": [
    {
     "data": {
      "text/plain": [
       "array([ 5, 10, 15, 20, 25, 30, 35, 40])"
      ]
     },
     "execution_count": 3,
     "metadata": {},
     "output_type": "execute_result"
    }
   ],
   "source": [
    "np_2 * 5"
   ]
  },
  {
   "cell_type": "code",
   "execution_count": 4,
   "id": "52e4e47a",
   "metadata": {},
   "outputs": [
    {
     "data": {
      "text/plain": [
       "array([0.5, 1. , 1.5, 2. , 2.5, 3. , 3.5, 4. ])"
      ]
     },
     "execution_count": 4,
     "metadata": {},
     "output_type": "execute_result"
    }
   ],
   "source": [
    "np_2 / 2"
   ]
  },
  {
   "cell_type": "code",
   "execution_count": 5,
   "id": "5ea06df1",
   "metadata": {},
   "outputs": [
    {
     "data": {
      "text/plain": [
       "array([13, 14, 15, 16, 17, 18, 19, 20])"
      ]
     },
     "execution_count": 5,
     "metadata": {},
     "output_type": "execute_result"
    }
   ],
   "source": [
    "np_2 + 12"
   ]
  },
  {
   "cell_type": "code",
   "execution_count": 6,
   "id": "fcd46aa3",
   "metadata": {},
   "outputs": [
    {
     "data": {
      "text/plain": [
       "array([-8, -7, -6, -5, -4, -3, -2, -1])"
      ]
     },
     "execution_count": 6,
     "metadata": {},
     "output_type": "execute_result"
    }
   ],
   "source": [
    "np_2 - 9"
   ]
  },
  {
   "cell_type": "code",
   "execution_count": 7,
   "id": "c6757565",
   "metadata": {},
   "outputs": [
    {
     "data": {
      "text/plain": [
       "array([1, 2, 3, 4, 0, 1, 2, 3], dtype=int32)"
      ]
     },
     "execution_count": 7,
     "metadata": {},
     "output_type": "execute_result"
    }
   ],
   "source": [
    "np_2 % 5"
   ]
  },
  {
   "cell_type": "code",
   "execution_count": 8,
   "id": "a7efa509",
   "metadata": {},
   "outputs": [
    {
     "data": {
      "text/plain": [
       "array([0, 0, 0, 0, 0, 0, 1, 1], dtype=int32)"
      ]
     },
     "execution_count": 8,
     "metadata": {},
     "output_type": "execute_result"
    }
   ],
   "source": [
    "np_2 // 7"
   ]
  },
  {
   "cell_type": "code",
   "execution_count": 9,
   "id": "7300509c",
   "metadata": {},
   "outputs": [
    {
     "data": {
      "text/plain": [
       "array([False, False, False, False,  True, False, False, False])"
      ]
     },
     "execution_count": 9,
     "metadata": {},
     "output_type": "execute_result"
    }
   ],
   "source": [
    "np_2 == 5"
   ]
  },
  {
   "cell_type": "code",
   "execution_count": 10,
   "id": "82fa68c8",
   "metadata": {},
   "outputs": [
    {
     "data": {
      "text/plain": [
       "array([    1,    32,   243,  1024,  3125,  7776, 16807, 32768],\n",
       "      dtype=int32)"
      ]
     },
     "execution_count": 10,
     "metadata": {},
     "output_type": "execute_result"
    }
   ],
   "source": [
    "np_2 ** 5"
   ]
  },
  {
   "cell_type": "markdown",
   "id": "f9b7f0ad",
   "metadata": {},
   "source": [
    "## ikkita va undan ortiq matrixlar ustida amallar"
   ]
  },
  {
   "cell_type": "code",
   "execution_count": 11,
   "id": "e378a72f",
   "metadata": {},
   "outputs": [
    {
     "name": "stdout",
     "output_type": "stream",
     "text": [
      "[[0 1]\n",
      " [2 3]]\n",
      "[[5 6]\n",
      " [7 8]]\n"
     ]
    }
   ],
   "source": [
    "np_3 = np.arange(4).reshape(2,2)\n",
    "np_4 = np.arange(5,9).reshape(2,2)\n",
    "print(np_3)\n",
    "print(np_4)"
   ]
  },
  {
   "cell_type": "code",
   "execution_count": 12,
   "id": "7391f655",
   "metadata": {},
   "outputs": [
    {
     "data": {
      "text/plain": [
       "array([[-5, -5],\n",
       "       [-5, -5]])"
      ]
     },
     "execution_count": 12,
     "metadata": {},
     "output_type": "execute_result"
    }
   ],
   "source": [
    "np_3 - np_4"
   ]
  },
  {
   "cell_type": "code",
   "execution_count": 13,
   "id": "c6e3bf9d",
   "metadata": {},
   "outputs": [
    {
     "data": {
      "text/plain": [
       "array([[ 5,  7],\n",
       "       [ 9, 11]])"
      ]
     },
     "execution_count": 13,
     "metadata": {},
     "output_type": "execute_result"
    }
   ],
   "source": [
    "np_3 + np_4"
   ]
  },
  {
   "cell_type": "code",
   "execution_count": 14,
   "id": "810a896b",
   "metadata": {},
   "outputs": [
    {
     "data": {
      "text/plain": [
       "array([[ 0,  6],\n",
       "       [14, 24]])"
      ]
     },
     "execution_count": 14,
     "metadata": {},
     "output_type": "execute_result"
    }
   ],
   "source": [
    "np_3 * np_4"
   ]
  },
  {
   "cell_type": "code",
   "execution_count": 15,
   "id": "255f69d3",
   "metadata": {},
   "outputs": [
    {
     "data": {
      "text/plain": [
       "array([[0.        , 0.16666667],\n",
       "       [0.28571429, 0.375     ]])"
      ]
     },
     "execution_count": 15,
     "metadata": {},
     "output_type": "execute_result"
    }
   ],
   "source": [
    "np_3 / np_4"
   ]
  },
  {
   "cell_type": "code",
   "execution_count": 16,
   "id": "c808677e",
   "metadata": {},
   "outputs": [
    {
     "data": {
      "text/plain": [
       "array([[0, 0],\n",
       "       [0, 0]])"
      ]
     },
     "execution_count": 16,
     "metadata": {},
     "output_type": "execute_result"
    }
   ],
   "source": [
    "np_3 // np_4"
   ]
  },
  {
   "cell_type": "code",
   "execution_count": 17,
   "id": "c0dd72fc",
   "metadata": {},
   "outputs": [
    {
     "data": {
      "text/plain": [
       "array([[0, 1],\n",
       "       [2, 3]])"
      ]
     },
     "execution_count": 17,
     "metadata": {},
     "output_type": "execute_result"
    }
   ],
   "source": [
    "np_3 % np_4"
   ]
  },
  {
   "cell_type": "code",
   "execution_count": 18,
   "id": "d7c078d2",
   "metadata": {},
   "outputs": [
    {
     "data": {
      "text/plain": [
       "array([[   0,    1],\n",
       "       [ 128, 6561]])"
      ]
     },
     "execution_count": 18,
     "metadata": {},
     "output_type": "execute_result"
    }
   ],
   "source": [
    "np_3 ** np_4"
   ]
  },
  {
   "cell_type": "code",
   "execution_count": 19,
   "id": "37428431",
   "metadata": {},
   "outputs": [
    {
     "name": "stdout",
     "output_type": "stream",
     "text": [
      "np_4 [[5 6]\n",
      " [7 8]]\n",
      "np_5 [1 2]\n"
     ]
    }
   ],
   "source": [
    "np_5 = np.array([1,2])\n",
    "print(\"np_4\",np_4)\n",
    "print(\"np_5\",np_5)"
   ]
  },
  {
   "cell_type": "code",
   "execution_count": 20,
   "id": "11389125",
   "metadata": {},
   "outputs": [
    {
     "data": {
      "text/plain": [
       "array([[-4, -4],\n",
       "       [-6, -6]])"
      ]
     },
     "execution_count": 20,
     "metadata": {},
     "output_type": "execute_result"
    }
   ],
   "source": [
    "np_5 - np_4"
   ]
  },
  {
   "cell_type": "code",
   "execution_count": 21,
   "id": "3b4afee4",
   "metadata": {},
   "outputs": [
    {
     "data": {
      "text/plain": [
       "array([[4, 4],\n",
       "       [6, 6]])"
      ]
     },
     "execution_count": 21,
     "metadata": {},
     "output_type": "execute_result"
    }
   ],
   "source": [
    "np_4 - np_5"
   ]
  },
  {
   "cell_type": "code",
   "execution_count": 22,
   "id": "a88e4b9d",
   "metadata": {},
   "outputs": [
    {
     "name": "stdout",
     "output_type": "stream",
     "text": [
      "np_6 [1 2 3]\n",
      "np_5 [[1 2 3]\n",
      " [4 5 6]\n",
      " [7 8 9]]\n"
     ]
    }
   ],
   "source": [
    "np_5 = np.arange(1,10).reshape(3,3)\n",
    "np_6 = np.array([1,2,3])\n",
    "print(\"np_6\",np_6)\n",
    "print(\"np_5\",np_5)"
   ]
  },
  {
   "cell_type": "code",
   "execution_count": 23,
   "id": "f145c48e",
   "metadata": {},
   "outputs": [
    {
     "data": {
      "text/plain": [
       "array([[0, 0, 0],\n",
       "       [3, 3, 3],\n",
       "       [6, 6, 6]])"
      ]
     },
     "execution_count": 23,
     "metadata": {},
     "output_type": "execute_result"
    }
   ],
   "source": [
    "np_5 - np_6"
   ]
  },
  {
   "cell_type": "code",
   "execution_count": 24,
   "id": "9344217e",
   "metadata": {},
   "outputs": [
    {
     "data": {
      "text/plain": [
       "array([[ 0,  0,  0],\n",
       "       [-3, -3, -3],\n",
       "       [-6, -6, -6]])"
      ]
     },
     "execution_count": 24,
     "metadata": {},
     "output_type": "execute_result"
    }
   ],
   "source": [
    "np_6 - np_5"
   ]
  },
  {
   "cell_type": "code",
   "execution_count": 25,
   "id": "9adb3822",
   "metadata": {},
   "outputs": [
    {
     "name": "stdout",
     "output_type": "stream",
     "text": [
      "np_4 [[5 6]\n",
      " [7 8]]\n",
      "np_5 [[1 2]\n",
      " [3 4]\n",
      " [5 6]]\n"
     ]
    }
   ],
   "source": [
    "np_5 = np.arange(1,7).reshape(3,2)\n",
    "print(\"np_4\",np_4)\n",
    "print(\"np_5\",np_5)"
   ]
  },
  {
   "cell_type": "code",
   "execution_count": 26,
   "id": "fc75a7aa",
   "metadata": {},
   "outputs": [
    {
     "ename": "ValueError",
     "evalue": "operands could not be broadcast together with shapes (3,2) (2,2) ",
     "output_type": "error",
     "traceback": [
      "\u001b[1;31m---------------------------------------------------------------------------\u001b[0m",
      "\u001b[1;31mValueError\u001b[0m                                Traceback (most recent call last)",
      "Input \u001b[1;32mIn [26]\u001b[0m, in \u001b[0;36m<cell line: 1>\u001b[1;34m()\u001b[0m\n\u001b[1;32m----> 1\u001b[0m \u001b[43mnp_5\u001b[49m\u001b[43m \u001b[49m\u001b[38;5;241;43m-\u001b[39;49m\u001b[43m \u001b[49m\u001b[43mnp_4\u001b[49m\n",
      "\u001b[1;31mValueError\u001b[0m: operands could not be broadcast together with shapes (3,2) (2,2) "
     ]
    }
   ],
   "source": [
    "np_5 - np_4"
   ]
  },
  {
   "cell_type": "code",
   "execution_count": 27,
   "id": "ce4f66a6",
   "metadata": {},
   "outputs": [
    {
     "ename": "ValueError",
     "evalue": "operands could not be broadcast together with shapes (2,2) (3,2) ",
     "output_type": "error",
     "traceback": [
      "\u001b[1;31m---------------------------------------------------------------------------\u001b[0m",
      "\u001b[1;31mValueError\u001b[0m                                Traceback (most recent call last)",
      "Input \u001b[1;32mIn [27]\u001b[0m, in \u001b[0;36m<cell line: 1>\u001b[1;34m()\u001b[0m\n\u001b[1;32m----> 1\u001b[0m \u001b[43mnp_4\u001b[49m\u001b[43m \u001b[49m\u001b[38;5;241;43m-\u001b[39;49m\u001b[43m \u001b[49m\u001b[43mnp_5\u001b[49m\n",
      "\u001b[1;31mValueError\u001b[0m: operands could not be broadcast together with shapes (2,2) (3,2) "
     ]
    }
   ],
   "source": [
    "np_4 - np_5"
   ]
  }
 ],
 "metadata": {
  "kernelspec": {
   "display_name": "Python 3 (ipykernel)",
   "language": "python",
   "name": "python3"
  },
  "language_info": {
   "codemirror_mode": {
    "name": "ipython",
    "version": 3
   },
   "file_extension": ".py",
   "mimetype": "text/x-python",
   "name": "python",
   "nbconvert_exporter": "python",
   "pygments_lexer": "ipython3",
   "version": "3.9.8"
  }
 },
 "nbformat": 4,
 "nbformat_minor": 5
}
