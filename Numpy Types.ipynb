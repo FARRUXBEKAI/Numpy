{
 "cells": [
  {
   "cell_type": "markdown",
   "id": "188e04e4",
   "metadata": {},
   "source": [
    "# 8/09/2022\n",
    "\n",
    "# Numpy\n",
    "\n",
    "\n",
    "# Muallif: Farrux Sotivoldiyev"
   ]
  },
  {
   "cell_type": "markdown",
   "id": "eb5f9d7c",
   "metadata": {},
   "source": [
    "# Numpy Types\n",
    "* `bool` = True,False\n",
    "*\n",
    "* `int8` = -128 - 127  (1 bit sign uchun 7 bit son hosil qilish uchun - Xotiradan 8 bit yani 1 bayt joy beradi)\n",
    "* `int16` = -32768 - 32767\n",
    "* `int32` = -2147483648 - 2147483647\n",
    "* `int64` = -9223372036854775808 - 9223372036854775807\n",
    "*\n",
    "* `uint8` = 0 - 255   (8 bitning hammasi son hosil qilish uchun)\n",
    "* `uint16` = 0 - 65536\n",
    "* `uint32` = 0 - 429496729\n",
    "* `uint64` = 0 - 18446744073709551615\n",
    "*\n",
    "* `float16` = 1 bit sign, 5 bit exponent, 10 bit mantissa\n",
    "* `float32` = 1 bit sign, 8 bit exponent, 23 bit mantissa\n",
    "* `float64` = 1 bit sign, 11 bit exponent, 52 bit mantissa\n",
    "*\n",
    "* `complex64` = float32 + float32\n",
    "* `complex128` = float64 + float64\n",
    "*\n",
    "* `string` - bir belgi bir bayt"
   ]
  },
  {
   "cell_type": "markdown",
   "id": "6afe2343",
   "metadata": {},
   "source": [
    "**`Numpy kutubxonasini chaqirib olamiz`**"
   ]
  },
  {
   "cell_type": "code",
   "execution_count": 1,
   "id": "d2a47f44",
   "metadata": {},
   "outputs": [],
   "source": [
    "import numpy as np"
   ]
  },
  {
   "cell_type": "markdown",
   "id": "40720069",
   "metadata": {},
   "source": [
    "**`np.int8`** - bu yerda int8 (-128 - 127 ) oraliqda bo'lgani uchun undan katta yoki undan kichik son kiritsak o'z oralig'iga o'girib oladi.Ya'ni -130 kiritsak -128 dan kichkina bo'lgani uchun 127 dan yana qaytadi va 126 bo'lib qoladi.Agar 130 bo'lsa manfiy tarafdan qaytadi va -126 bo'lib qoladi."
   ]
  },
  {
   "cell_type": "code",
   "execution_count": 2,
   "id": "0faccef1",
   "metadata": {},
   "outputs": [
    {
     "name": "stdout",
     "output_type": "stream",
     "text": [
      "[126   2   3   4   5]\n"
     ]
    }
   ],
   "source": [
    "a = np.array([-130,2,3,4,5],dtype=np.int8)\n",
    "print(a)"
   ]
  },
  {
   "cell_type": "markdown",
   "id": "10561bfc",
   "metadata": {},
   "source": [
    "**`np.uint8`** - bu yerda uint8 (0 - 255 ) oraliqda bo'lgani uchun undan katta yoki undan kichik son kiritsak o'z oralig'iga o'girib oladi.Ya'ni -5 kiritsak 0 dan kichkina bo'lgani uchun 255 dan yana qaytadi va 251 bo'lib qoladi.Agar 260 bo'lsa 0 tarafdan qaytadi va 4 bo'lib qoladi."
   ]
  },
  {
   "cell_type": "code",
   "execution_count": 3,
   "id": "e6167393",
   "metadata": {},
   "outputs": [
    {
     "name": "stdout",
     "output_type": "stream",
     "text": [
      "[251   2   3   4  58]\n"
     ]
    }
   ],
   "source": [
    "b = np.array([-5,2,3,4,58],dtype=np.uint8)\n",
    "print(b)"
   ]
  },
  {
   "cell_type": "code",
   "execution_count": 4,
   "id": "f7f9bc9f",
   "metadata": {},
   "outputs": [
    {
     "name": "stdout",
     "output_type": "stream",
     "text": [
      "[ 4  2  3  4 58]\n"
     ]
    }
   ],
   "source": [
    "b = np.array([260,2,3,4,58],dtype=np.uint8)\n",
    "print(b)"
   ]
  }
 ],
 "metadata": {
  "kernelspec": {
   "display_name": "Python 3 (ipykernel)",
   "language": "python",
   "name": "python3"
  },
  "language_info": {
   "codemirror_mode": {
    "name": "ipython",
    "version": 3
   },
   "file_extension": ".py",
   "mimetype": "text/x-python",
   "name": "python",
   "nbconvert_exporter": "python",
   "pygments_lexer": "ipython3",
   "version": "3.9.8"
  }
 },
 "nbformat": 4,
 "nbformat_minor": 5
}
