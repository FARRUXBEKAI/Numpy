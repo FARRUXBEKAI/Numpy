{
 "cells": [
  {
   "cell_type": "markdown",
   "id": "49285a00",
   "metadata": {},
   "source": [
    "# Linear algebra\n",
    "* np.linalg.det() - determinant topish\n",
    "* np.linalg.inv() - teskarisini topish"
   ]
  },
  {
   "cell_type": "markdown",
   "id": "e43a12a9",
   "metadata": {},
   "source": [
    "**`Numpy kutubxonasini chaqirib olamiz`**"
   ]
  },
  {
   "cell_type": "code",
   "execution_count": 1,
   "id": "d2a47f44",
   "metadata": {},
   "outputs": [],
   "source": [
    "import numpy as np"
   ]
  },
  {
   "cell_type": "markdown",
   "id": "232d4876",
   "metadata": {},
   "source": [
    "**`np.linalg.det`**"
   ]
  },
  {
   "cell_type": "code",
   "execution_count": 2,
   "id": "6a46f06b",
   "metadata": {},
   "outputs": [
    {
     "data": {
      "text/plain": [
       "array([[3, 1, 1, 3],\n",
       "       [3, 2, 3, 3],\n",
       "       [4, 2, 3, 3],\n",
       "       [1, 1, 2, 3]])"
      ]
     },
     "execution_count": 2,
     "metadata": {},
     "output_type": "execute_result"
    }
   ],
   "source": [
    "np_0 = np.random.randint(1,5,size=(4,4))\n",
    "np_0"
   ]
  },
  {
   "cell_type": "code",
   "execution_count": 3,
   "id": "948091d7",
   "metadata": {},
   "outputs": [
    {
     "data": {
      "text/plain": [
       "3.0000000000000004"
      ]
     },
     "execution_count": 3,
     "metadata": {},
     "output_type": "execute_result"
    }
   ],
   "source": [
    "np.linalg.det(np_0)"
   ]
  },
  {
   "cell_type": "markdown",
   "id": "3577f5ea",
   "metadata": {},
   "source": [
    "**`np.linalg.inv`**"
   ]
  },
  {
   "cell_type": "code",
   "execution_count": 4,
   "id": "34ebbd69",
   "metadata": {},
   "outputs": [
    {
     "data": {
      "text/plain": [
       "array([[ 0.        , -1.        ,  1.        ,  0.        ],\n",
       "       [ 1.        ,  5.        , -4.        , -2.        ],\n",
       "       [-1.        , -2.        ,  2.        ,  1.        ],\n",
       "       [ 0.33333333,  0.        , -0.33333333,  0.33333333]])"
      ]
     },
     "execution_count": 4,
     "metadata": {},
     "output_type": "execute_result"
    }
   ],
   "source": [
    "inverse = np.linalg.inv(np_0)\n",
    "inverse"
   ]
  },
  {
   "cell_type": "code",
   "execution_count": 5,
   "id": "294c8695",
   "metadata": {
    "scrolled": true
   },
   "outputs": [
    {
     "data": {
      "text/plain": [
       "array([[1., 0., 0., 0.],\n",
       "       [0., 1., 0., 0.],\n",
       "       [0., 0., 1., 0.],\n",
       "       [0., 0., 0., 1.]])"
      ]
     },
     "execution_count": 5,
     "metadata": {},
     "output_type": "execute_result"
    }
   ],
   "source": [
    "#Agar teskari matritsani asl matritsaga ko'paytirganimizda 1 lik matritsa chiqsa unda to'gri bo'ladi\n",
    "np.around(inverse @ np_0,2) "
   ]
  }
 ],
 "metadata": {
  "kernelspec": {
   "display_name": "Python 3 (ipykernel)",
   "language": "python",
   "name": "python3"
  },
  "language_info": {
   "codemirror_mode": {
    "name": "ipython",
    "version": 3
   },
   "file_extension": ".py",
   "mimetype": "text/x-python",
   "name": "python",
   "nbconvert_exporter": "python",
   "pygments_lexer": "ipython3",
   "version": "3.9.8"
  }
 },
 "nbformat": 4,
 "nbformat_minor": 5
}
