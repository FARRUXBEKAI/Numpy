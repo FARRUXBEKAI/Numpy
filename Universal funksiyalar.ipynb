{
 "cells": [
  {
   "cell_type": "markdown",
   "id": "c3ce1c79",
   "metadata": {},
   "source": [
    "# Universal funksiyalar"
   ]
  },
  {
   "cell_type": "markdown",
   "id": "83ba939e",
   "metadata": {},
   "source": [
    "**`Numpy kutubxonasini chaqirib olamiz`**"
   ]
  },
  {
   "cell_type": "code",
   "execution_count": 1,
   "id": "d2a47f44",
   "metadata": {},
   "outputs": [],
   "source": [
    "import numpy as np"
   ]
  },
  {
   "cell_type": "markdown",
   "id": "5b1cece6",
   "metadata": {},
   "source": [
    "### Unar amallar.\n",
    "* np.abs\n",
    "* np.sqrt\n",
    "* np.square\n",
    "* np.exp\n",
    "* np.log log2 log10 log1p=(log(1+x))\n",
    "* np.sign\n",
    "* np.ceil\n",
    "* np.floor\n",
    "* np.rint\n",
    "* np.modf\n",
    "* np.isnan\n",
    "* np.cos ..."
   ]
  },
  {
   "cell_type": "code",
   "execution_count": 80,
   "id": "560f38a5",
   "metadata": {},
   "outputs": [
    {
     "data": {
      "text/plain": [
       "array([[[-5, -4, -3, -2],\n",
       "        [-1,  0,  1,  2]],\n",
       "\n",
       "       [[ 3,  4,  5,  6],\n",
       "        [ 7,  8,  9, 10]]])"
      ]
     },
     "execution_count": 80,
     "metadata": {},
     "output_type": "execute_result"
    }
   ],
   "source": [
    "np_8 = np.arange(-5,11).reshape(2,2,4)\n",
    "np_8"
   ]
  },
  {
   "cell_type": "markdown",
   "id": "4ccc997e",
   "metadata": {},
   "source": [
    "**`np.abs`** - modul"
   ]
  },
  {
   "cell_type": "code",
   "execution_count": 84,
   "id": "0f30106d",
   "metadata": {},
   "outputs": [
    {
     "data": {
      "text/plain": [
       "array([[[ 5,  4,  3,  2],\n",
       "        [ 1,  0,  1,  2]],\n",
       "\n",
       "       [[ 3,  4,  5,  6],\n",
       "        [ 7,  8,  9, 10]]])"
      ]
     },
     "execution_count": 84,
     "metadata": {},
     "output_type": "execute_result"
    }
   ],
   "source": [
    "musbat = np.abs(np_8)\n",
    "musbat"
   ]
  },
  {
   "cell_type": "markdown",
   "id": "f137a0c1",
   "metadata": {},
   "source": [
    "**`np.sqrt`** - ildiz oladi"
   ]
  },
  {
   "cell_type": "code",
   "execution_count": 85,
   "id": "014aa6e8",
   "metadata": {},
   "outputs": [
    {
     "data": {
      "text/plain": [
       "array([[[2.23606798, 2.        , 1.73205081, 1.41421356],\n",
       "        [1.        , 0.        , 1.        , 1.41421356]],\n",
       "\n",
       "       [[1.73205081, 2.        , 2.23606798, 2.44948974],\n",
       "        [2.64575131, 2.82842712, 3.        , 3.16227766]]])"
      ]
     },
     "execution_count": 85,
     "metadata": {},
     "output_type": "execute_result"
    }
   ],
   "source": [
    "np.sqrt(musbat)"
   ]
  },
  {
   "cell_type": "markdown",
   "id": "b6038bb4",
   "metadata": {},
   "source": [
    "**`np.square`** - kvadratga ko'taradi"
   ]
  },
  {
   "cell_type": "code",
   "execution_count": 86,
   "id": "9f131b88",
   "metadata": {},
   "outputs": [
    {
     "data": {
      "text/plain": [
       "array([[[ 25,  16,   9,   4],\n",
       "        [  1,   0,   1,   4]],\n",
       "\n",
       "       [[  9,  16,  25,  36],\n",
       "        [ 49,  64,  81, 100]]])"
      ]
     },
     "execution_count": 86,
     "metadata": {},
     "output_type": "execute_result"
    }
   ],
   "source": [
    "np.square(np_8)"
   ]
  },
  {
   "cell_type": "markdown",
   "id": "232c4c16",
   "metadata": {},
   "source": [
    "**`np.exp`** - e ni shu darajalarga ko'taradi"
   ]
  },
  {
   "cell_type": "code",
   "execution_count": 87,
   "id": "97e611e5",
   "metadata": {},
   "outputs": [
    {
     "data": {
      "text/plain": [
       "array([[[6.73794700e-03, 1.83156389e-02, 4.97870684e-02, 1.35335283e-01],\n",
       "        [3.67879441e-01, 1.00000000e+00, 2.71828183e+00, 7.38905610e+00]],\n",
       "\n",
       "       [[2.00855369e+01, 5.45981500e+01, 1.48413159e+02, 4.03428793e+02],\n",
       "        [1.09663316e+03, 2.98095799e+03, 8.10308393e+03, 2.20264658e+04]]])"
      ]
     },
     "execution_count": 87,
     "metadata": {},
     "output_type": "execute_result"
    }
   ],
   "source": [
    "np.exp(np_8)"
   ]
  },
  {
   "cell_type": "markdown",
   "id": "dcf22a87",
   "metadata": {},
   "source": [
    "* log ni ishlatishni tushunmadim"
   ]
  },
  {
   "cell_type": "markdown",
   "id": "6b62e56b",
   "metadata": {},
   "source": [
    "**`np.sign`** - + elementlar uchun 1 , - elementlar uchun esa -1 ni oladi va qaytaradi.Agar 0 bo'lsa o'zini qaytaradi"
   ]
  },
  {
   "cell_type": "code",
   "execution_count": 93,
   "id": "09cc4b29",
   "metadata": {},
   "outputs": [
    {
     "data": {
      "text/plain": [
       "array([ 1,  1, -1,  1, -1,  1,  1, -1])"
      ]
     },
     "execution_count": 93,
     "metadata": {},
     "output_type": "execute_result"
    }
   ],
   "source": [
    "np.sign([1,2,-7,5,-2,1,9,-1])"
   ]
  },
  {
   "cell_type": "code",
   "execution_count": 94,
   "id": "26805708",
   "metadata": {},
   "outputs": [
    {
     "data": {
      "text/plain": [
       "array([ 1,  0, -1,  1, -1,  1,  1,  0])"
      ]
     },
     "execution_count": 94,
     "metadata": {},
     "output_type": "execute_result"
    }
   ],
   "source": [
    "np.sign([1,0,-7,5,-2,1,9,0])"
   ]
  },
  {
   "cell_type": "code",
   "execution_count": 103,
   "id": "0d00bde9",
   "metadata": {},
   "outputs": [
    {
     "data": {
      "text/plain": [
       "array([[ 0.38635589,  0.72134181, -0.59142736],\n",
       "       [ 1.22037818, -0.60914217, -0.20435565],\n",
       "       [-1.67257647,  0.78446739, -1.38707641]])"
      ]
     },
     "execution_count": 103,
     "metadata": {},
     "output_type": "execute_result"
    }
   ],
   "source": [
    "np_9 = np.random.randn(3,3)\n",
    "np_9"
   ]
  },
  {
   "cell_type": "markdown",
   "id": "fc51505f",
   "metadata": {},
   "source": [
    "**`np.ceil`** - yuqoriga nisbatan yaxlitlash"
   ]
  },
  {
   "cell_type": "code",
   "execution_count": 104,
   "id": "7f6e2588",
   "metadata": {},
   "outputs": [
    {
     "data": {
      "text/plain": [
       "array([[ 1.,  1., -0.],\n",
       "       [ 2., -0., -0.],\n",
       "       [-1.,  1., -1.]])"
      ]
     },
     "execution_count": 104,
     "metadata": {},
     "output_type": "execute_result"
    }
   ],
   "source": [
    "np.ceil(np_9)"
   ]
  },
  {
   "cell_type": "markdown",
   "id": "67d10838",
   "metadata": {},
   "source": [
    "**`np.floor`** - pastga nisbatan yaxlitlash"
   ]
  },
  {
   "cell_type": "code",
   "execution_count": 105,
   "id": "34c799ae",
   "metadata": {},
   "outputs": [
    {
     "data": {
      "text/plain": [
       "array([[ 0.,  0., -1.],\n",
       "       [ 1., -1., -1.],\n",
       "       [-2.,  0., -2.]])"
      ]
     },
     "execution_count": 105,
     "metadata": {},
     "output_type": "execute_result"
    }
   ],
   "source": [
    "np.floor(np_9)"
   ]
  },
  {
   "cell_type": "markdown",
   "id": "d85d8328",
   "metadata": {},
   "source": [
    "**`np.rint`** - to'g'ri yaxlitlash"
   ]
  },
  {
   "cell_type": "code",
   "execution_count": 106,
   "id": "34fe3354",
   "metadata": {},
   "outputs": [
    {
     "data": {
      "text/plain": [
       "array([[ 0.,  1., -1.],\n",
       "       [ 1., -1., -0.],\n",
       "       [-2.,  1., -1.]])"
      ]
     },
     "execution_count": 106,
     "metadata": {},
     "output_type": "execute_result"
    }
   ],
   "source": [
    "np.rint(np_9)"
   ]
  },
  {
   "cell_type": "markdown",
   "id": "631e2f5e",
   "metadata": {},
   "source": [
    "**`np.modf`** - qoldiq va butunga ajratadi"
   ]
  },
  {
   "cell_type": "code",
   "execution_count": 110,
   "id": "660e2f46",
   "metadata": {},
   "outputs": [
    {
     "name": "stdout",
     "output_type": "stream",
     "text": [
      "[[ 0.38635589  0.72134181 -0.59142736]\n",
      " [ 1.22037818 -0.60914217 -0.20435565]\n",
      " [-1.67257647  0.78446739 -1.38707641]]\n",
      "\n"
     ]
    },
    {
     "data": {
      "text/plain": [
       "(array([[ 0.38635589,  0.72134181, -0.59142736],\n",
       "        [ 0.22037818, -0.60914217, -0.20435565],\n",
       "        [-0.67257647,  0.78446739, -0.38707641]]),\n",
       " array([[ 0.,  0., -0.],\n",
       "        [ 1., -0., -0.],\n",
       "        [-1.,  0., -1.]]))"
      ]
     },
     "execution_count": 110,
     "metadata": {},
     "output_type": "execute_result"
    }
   ],
   "source": [
    "print(np_9)\n",
    "print()\n",
    "np.modf(np_9)"
   ]
  },
  {
   "cell_type": "code",
   "execution_count": 109,
   "id": "2ff490ee",
   "metadata": {},
   "outputs": [
    {
     "name": "stdout",
     "output_type": "stream",
     "text": [
      "[[[-5 -4 -3 -2]\n",
      "  [-1  0  1  2]]\n",
      "\n",
      " [[ 3  4  5  6]\n",
      "  [ 7  8  9 10]]]\n",
      "\n"
     ]
    },
    {
     "data": {
      "text/plain": [
       "(array([[[-0., -0., -0., -0.],\n",
       "         [-0.,  0.,  0.,  0.]],\n",
       " \n",
       "        [[ 0.,  0.,  0.,  0.],\n",
       "         [ 0.,  0.,  0.,  0.]]]),\n",
       " array([[[-5., -4., -3., -2.],\n",
       "         [-1.,  0.,  1.,  2.]],\n",
       " \n",
       "        [[ 3.,  4.,  5.,  6.],\n",
       "         [ 7.,  8.,  9., 10.]]]))"
      ]
     },
     "execution_count": 109,
     "metadata": {},
     "output_type": "execute_result"
    }
   ],
   "source": [
    "print(np_8)\n",
    "print()\n",
    "np.modf(np_8)"
   ]
  },
  {
   "cell_type": "code",
   "execution_count": 121,
   "id": "b078d135",
   "metadata": {},
   "outputs": [
    {
     "data": {
      "text/plain": [
       "array([[[-5, -4, None, -2],\n",
       "        [-1, 0, 1, 2]],\n",
       "\n",
       "       [[3, 4, 5, 6],\n",
       "        [7, 8, 9, 10]]], dtype=object)"
      ]
     },
     "execution_count": 121,
     "metadata": {},
     "output_type": "execute_result"
    }
   ],
   "source": [
    "np_10 = np.array([[[-5 ,-4 ,None,-2],[-1  ,0  ,1  ,2]],[[ 3  ,4  ,5 ,6],[ 7  ,8  ,9 ,10]]])\n",
    "np_10"
   ]
  },
  {
   "cell_type": "code",
   "execution_count": 122,
   "id": "22c89286",
   "metadata": {},
   "outputs": [
    {
     "ename": "TypeError",
     "evalue": "ufunc 'isnan' not supported for the input types, and the inputs could not be safely coerced to any supported types according to the casting rule ''safe''",
     "output_type": "error",
     "traceback": [
      "\u001b[1;31m---------------------------------------------------------------------------\u001b[0m",
      "\u001b[1;31mTypeError\u001b[0m                                 Traceback (most recent call last)",
      "Input \u001b[1;32mIn [122]\u001b[0m, in \u001b[0;36m<cell line: 1>\u001b[1;34m()\u001b[0m\n\u001b[1;32m----> 1\u001b[0m \u001b[43mnp\u001b[49m\u001b[38;5;241;43m.\u001b[39;49m\u001b[43misnan\u001b[49m\u001b[43m(\u001b[49m\u001b[43mnp_10\u001b[49m\u001b[43m)\u001b[49m\n",
      "\u001b[1;31mTypeError\u001b[0m: ufunc 'isnan' not supported for the input types, and the inputs could not be safely coerced to any supported types according to the casting rule ''safe''"
     ]
    }
   ],
   "source": [
    "np.isnan(np_10)"
   ]
  },
  {
   "cell_type": "markdown",
   "id": "a2d05e88",
   "metadata": {},
   "source": [
    "### Binar amallar.\n",
    "* np.add ` + `\n",
    "* np.substract` - `\n",
    "* np.multiply `*`\n",
    "* np.divide `/`\n",
    "* np.maximum `solishtirib kattalarini yeg'adi`\n",
    "* np.minimum `solishtirib kichiklarini yeg'adi`\n",
    "* np.power `darajaga kotaradi`\n",
    "* np.lcm `EKUK`\n",
    "* np.gcd `EKUB`\n",
    "* np.dot `*` `1 va 2 diminsionlar uchun. Bu method katta diminsionlar da xato ishlaydi`\n",
    "* np.matmul @ `*` `3 va undan katta diminsionlar uchun`\n",
    "* <,>,>=,<=,==,!=\n",
    "* & | ^"
   ]
  },
  {
   "cell_type": "code",
   "execution_count": 123,
   "id": "f5637500",
   "metadata": {},
   "outputs": [],
   "source": [
    "np_11 = np.array([1,2,3,4,5])\n",
    "np_12 = np.array([6,7,8,9,10])"
   ]
  },
  {
   "cell_type": "markdown",
   "id": "87ab9951",
   "metadata": {},
   "source": [
    "**`np.add or +`** - nd massivlarni mos elementlarini bir biriga qo'shadi."
   ]
  },
  {
   "cell_type": "code",
   "execution_count": 124,
   "id": "435b2f4f",
   "metadata": {},
   "outputs": [
    {
     "data": {
      "text/plain": [
       "array([ 7,  9, 11, 13, 15])"
      ]
     },
     "execution_count": 124,
     "metadata": {},
     "output_type": "execute_result"
    }
   ],
   "source": [
    "np_11 + np_12"
   ]
  },
  {
   "cell_type": "code",
   "execution_count": 126,
   "id": "c8b2391a",
   "metadata": {},
   "outputs": [
    {
     "data": {
      "text/plain": [
       "array([ 7,  9, 11, 13, 15])"
      ]
     },
     "execution_count": 126,
     "metadata": {},
     "output_type": "execute_result"
    }
   ],
   "source": [
    "np.add(np_11,np_12)"
   ]
  },
  {
   "cell_type": "markdown",
   "id": "04401d34",
   "metadata": {},
   "source": [
    "**`np.subtract or -`** - nd massivlarni mos elementlarini bir biridan ayiradi."
   ]
  },
  {
   "cell_type": "code",
   "execution_count": 127,
   "id": "fd4c89ad",
   "metadata": {},
   "outputs": [
    {
     "data": {
      "text/plain": [
       "array([-5, -5, -5, -5, -5])"
      ]
     },
     "execution_count": 127,
     "metadata": {},
     "output_type": "execute_result"
    }
   ],
   "source": [
    "np_11 - np_12"
   ]
  },
  {
   "cell_type": "code",
   "execution_count": 128,
   "id": "ebe05aa7",
   "metadata": {},
   "outputs": [
    {
     "data": {
      "text/plain": [
       "array([-5, -5, -5, -5, -5])"
      ]
     },
     "execution_count": 128,
     "metadata": {},
     "output_type": "execute_result"
    }
   ],
   "source": [
    "np.subtract(np_11,np_12)"
   ]
  },
  {
   "cell_type": "markdown",
   "id": "c238a747",
   "metadata": {},
   "source": [
    "**`np.multiply or *`** - nd massivlarni mos elementlarini bir biriga ko'paytiradi."
   ]
  },
  {
   "cell_type": "code",
   "execution_count": 129,
   "id": "7fd7b050",
   "metadata": {},
   "outputs": [
    {
     "data": {
      "text/plain": [
       "array([ 6, 14, 24, 36, 50])"
      ]
     },
     "execution_count": 129,
     "metadata": {},
     "output_type": "execute_result"
    }
   ],
   "source": [
    "np_11 * np_12"
   ]
  },
  {
   "cell_type": "code",
   "execution_count": 130,
   "id": "c8ce9d1a",
   "metadata": {},
   "outputs": [
    {
     "data": {
      "text/plain": [
       "array([ 6, 14, 24, 36, 50])"
      ]
     },
     "execution_count": 130,
     "metadata": {},
     "output_type": "execute_result"
    }
   ],
   "source": [
    "np.multiply(np_11,np_12)"
   ]
  },
  {
   "cell_type": "markdown",
   "id": "b853323b",
   "metadata": {},
   "source": [
    "**`np.divide or /`** - nd massivlarni mos elementlarini bir biriga bo'ladi."
   ]
  },
  {
   "cell_type": "code",
   "execution_count": 131,
   "id": "3b471254",
   "metadata": {},
   "outputs": [
    {
     "data": {
      "text/plain": [
       "array([0.16666667, 0.28571429, 0.375     , 0.44444444, 0.5       ])"
      ]
     },
     "execution_count": 131,
     "metadata": {},
     "output_type": "execute_result"
    }
   ],
   "source": [
    "np_11 / np_12"
   ]
  },
  {
   "cell_type": "code",
   "execution_count": 133,
   "id": "70562d7a",
   "metadata": {},
   "outputs": [
    {
     "data": {
      "text/plain": [
       "array([0.16666667, 0.28571429, 0.375     , 0.44444444, 0.5       ])"
      ]
     },
     "execution_count": 133,
     "metadata": {},
     "output_type": "execute_result"
    }
   ],
   "source": [
    "np.divide(np_11,np_12)"
   ]
  },
  {
   "cell_type": "code",
   "execution_count": 138,
   "id": "d1ab9b41",
   "metadata": {},
   "outputs": [],
   "source": [
    "np_13 = np.array([2,5,3,8,5])\n",
    "np_14 = np.array([3,7,8,9,10])"
   ]
  },
  {
   "cell_type": "markdown",
   "id": "6657d7c7",
   "metadata": {},
   "source": [
    "**`np.maximum`** - nd massivlarni mos elementlarini kattalarini oladi.(np.max)-dan farqli ishlaydi "
   ]
  },
  {
   "cell_type": "code",
   "execution_count": 140,
   "id": "f5fb62de",
   "metadata": {},
   "outputs": [
    {
     "data": {
      "text/plain": [
       "array([ 3,  7,  8,  9, 10])"
      ]
     },
     "execution_count": 140,
     "metadata": {},
     "output_type": "execute_result"
    }
   ],
   "source": [
    "np.maximum(np_13,np_14)"
   ]
  },
  {
   "cell_type": "markdown",
   "id": "586ea333",
   "metadata": {},
   "source": [
    "**`np.minimum`** - nd massivlarni mos elementlarini kichiklarini oladi.(np.min)-dan farqli ishlaydi "
   ]
  },
  {
   "cell_type": "code",
   "execution_count": 141,
   "id": "b21ca062",
   "metadata": {},
   "outputs": [
    {
     "data": {
      "text/plain": [
       "array([2, 5, 3, 8, 5])"
      ]
     },
     "execution_count": 141,
     "metadata": {},
     "output_type": "execute_result"
    }
   ],
   "source": [
    "np.minimum(np_13,np_14)"
   ]
  },
  {
   "cell_type": "markdown",
   "id": "365eed64",
   "metadata": {},
   "source": [
    "**`np.power`** - nd massivlarni mos elementlari bo'yicha darajaga ko'taradi."
   ]
  },
  {
   "cell_type": "code",
   "execution_count": 142,
   "id": "6bab587e",
   "metadata": {},
   "outputs": [
    {
     "data": {
      "text/plain": [
       "array([        8,     78125,      6561, 134217728,   9765625])"
      ]
     },
     "execution_count": 142,
     "metadata": {},
     "output_type": "execute_result"
    }
   ],
   "source": [
    "np.power(np_13,np_14)"
   ]
  },
  {
   "cell_type": "markdown",
   "id": "9421557d",
   "metadata": {},
   "source": [
    "**`np.lcm`** - nd massivlarni mos elementlarini EKUK ni oladi."
   ]
  },
  {
   "cell_type": "code",
   "execution_count": 143,
   "id": "c7c0a9be",
   "metadata": {},
   "outputs": [
    {
     "data": {
      "text/plain": [
       "array([ 6, 35, 24, 72, 10])"
      ]
     },
     "execution_count": 143,
     "metadata": {},
     "output_type": "execute_result"
    }
   ],
   "source": [
    "np.lcm(np_13,np_14)"
   ]
  },
  {
   "cell_type": "markdown",
   "id": "8451729a",
   "metadata": {},
   "source": [
    "**`np.gcd`** - nd massivlarni mos elementlarini EKUB ni oladi."
   ]
  },
  {
   "cell_type": "code",
   "execution_count": 144,
   "id": "9c84908d",
   "metadata": {},
   "outputs": [
    {
     "data": {
      "text/plain": [
       "array([1, 1, 1, 1, 5])"
      ]
     },
     "execution_count": 144,
     "metadata": {},
     "output_type": "execute_result"
    }
   ],
   "source": [
    "np.gcd(np_13,np_14)"
   ]
  },
  {
   "cell_type": "markdown",
   "id": "096a5db2",
   "metadata": {},
   "source": [
    "**`np.dot`**"
   ]
  },
  {
   "cell_type": "markdown",
   "id": "afde2cb7",
   "metadata": {},
   "source": [
    "*1d array ustida amal*"
   ]
  },
  {
   "cell_type": "code",
   "execution_count": 145,
   "id": "6bf008be",
   "metadata": {},
   "outputs": [
    {
     "data": {
      "text/plain": [
       "187"
      ]
     },
     "execution_count": 145,
     "metadata": {},
     "output_type": "execute_result"
    }
   ],
   "source": [
    "np.dot(np_13,np_14)"
   ]
  },
  {
   "cell_type": "markdown",
   "id": "0fd8345e",
   "metadata": {},
   "source": [
    "*2d array ustida amal*"
   ]
  },
  {
   "cell_type": "code",
   "execution_count": 146,
   "id": "375864d1",
   "metadata": {},
   "outputs": [
    {
     "name": "stdout",
     "output_type": "stream",
     "text": [
      "[[2 5]\n",
      " [3 8]]\n",
      "[[3 7]\n",
      " [8 9]]\n"
     ]
    }
   ],
   "source": [
    "np_13 = np.array([2,5,3,8]).reshape(2,2)\n",
    "np_14 = np.array([3,7,8,9]).reshape(2,2)\n",
    "print(np_13)\n",
    "print(np_14)"
   ]
  },
  {
   "cell_type": "code",
   "execution_count": 147,
   "id": "9af58ae6",
   "metadata": {},
   "outputs": [
    {
     "data": {
      "text/plain": [
       "array([[46, 59],\n",
       "       [73, 93]])"
      ]
     },
     "execution_count": 147,
     "metadata": {},
     "output_type": "execute_result"
    }
   ],
   "source": [
    "np.dot(np_13,np_14)"
   ]
  },
  {
   "cell_type": "markdown",
   "id": "1ea6c7dd",
   "metadata": {},
   "source": [
    "*1d va 2d array ustida amal*"
   ]
  },
  {
   "cell_type": "code",
   "execution_count": 148,
   "id": "0ae78d6d",
   "metadata": {},
   "outputs": [
    {
     "name": "stdout",
     "output_type": "stream",
     "text": [
      "[2 5]\n",
      "[[3 7]\n",
      " [8 9]]\n"
     ]
    }
   ],
   "source": [
    "np_13 = np.array([2,5])\n",
    "np_14 = np.array([3,7,8,9]).reshape(2,2)\n",
    "print(np_13)\n",
    "print(np_14)"
   ]
  },
  {
   "cell_type": "code",
   "execution_count": 149,
   "id": "95822165",
   "metadata": {},
   "outputs": [
    {
     "data": {
      "text/plain": [
       "array([46, 59])"
      ]
     },
     "execution_count": 149,
     "metadata": {},
     "output_type": "execute_result"
    }
   ],
   "source": [
    "np.dot(np_13,np_14)"
   ]
  },
  {
   "cell_type": "markdown",
   "id": "3c20c190",
   "metadata": {},
   "source": [
    "*3d array ustida amal*"
   ]
  },
  {
   "cell_type": "code",
   "execution_count": 157,
   "id": "02c310b2",
   "metadata": {},
   "outputs": [
    {
     "name": "stdout",
     "output_type": "stream",
     "text": [
      "[[[ 1  2  3]\n",
      "  [ 4  5  6]\n",
      "  [ 7  8  9]]\n",
      "\n",
      " [[10 11 12]\n",
      "  [13 14 15]\n",
      "  [16 17 18]]\n",
      "\n",
      " [[19 20 21]\n",
      "  [22 23 24]\n",
      "  [25 26 27]]]\n",
      "----------------\n",
      "[[[28 29 30]\n",
      "  [31 32 33]\n",
      "  [34 35 36]]\n",
      "\n",
      " [[37 38 39]\n",
      "  [40 41 42]\n",
      "  [43 44 45]]\n",
      "\n",
      " [[46 47 48]\n",
      "  [49 50 51]\n",
      "  [52 53 54]]]\n"
     ]
    }
   ],
   "source": [
    "np_13 = np.arange(1,28).reshape(3,3,3)\n",
    "np_14 = np.arange(28,55).reshape(3,3,3)\n",
    "print(np_13)\n",
    "print(\"----------------\")\n",
    "print(np_14)"
   ]
  },
  {
   "cell_type": "code",
   "execution_count": 159,
   "id": "0d8f4417",
   "metadata": {},
   "outputs": [
    {
     "data": {
      "text/plain": [
       "array([[[[ 192,  198,  204],\n",
       "         [ 246,  252,  258],\n",
       "         [ 300,  306,  312]],\n",
       "\n",
       "        [[ 471,  486,  501],\n",
       "         [ 606,  621,  636],\n",
       "         [ 741,  756,  771]],\n",
       "\n",
       "        [[ 750,  774,  798],\n",
       "         [ 966,  990, 1014],\n",
       "         [1182, 1206, 1230]]],\n",
       "\n",
       "\n",
       "       [[[1029, 1062, 1095],\n",
       "         [1326, 1359, 1392],\n",
       "         [1623, 1656, 1689]],\n",
       "\n",
       "        [[1308, 1350, 1392],\n",
       "         [1686, 1728, 1770],\n",
       "         [2064, 2106, 2148]],\n",
       "\n",
       "        [[1587, 1638, 1689],\n",
       "         [2046, 2097, 2148],\n",
       "         [2505, 2556, 2607]]],\n",
       "\n",
       "\n",
       "       [[[1866, 1926, 1986],\n",
       "         [2406, 2466, 2526],\n",
       "         [2946, 3006, 3066]],\n",
       "\n",
       "        [[2145, 2214, 2283],\n",
       "         [2766, 2835, 2904],\n",
       "         [3387, 3456, 3525]],\n",
       "\n",
       "        [[2424, 2502, 2580],\n",
       "         [3126, 3204, 3282],\n",
       "         [3828, 3906, 3984]]]])"
      ]
     },
     "execution_count": 159,
     "metadata": {},
     "output_type": "execute_result"
    }
   ],
   "source": [
    "np.dot(np_13,np_14)    # np.dot 3d va undan yuqori massivlarda xato ishlashni boshlaydi yani quidagiday:"
   ]
  },
  {
   "cell_type": "markdown",
   "id": "bff1f769",
   "metadata": {},
   "source": [
    "**`np.matmul`** **`@`**"
   ]
  },
  {
   "cell_type": "code",
   "execution_count": 160,
   "id": "41f1427d",
   "metadata": {},
   "outputs": [
    {
     "data": {
      "text/plain": [
       "array([[[ 192,  198,  204],\n",
       "        [ 471,  486,  501],\n",
       "        [ 750,  774,  798]],\n",
       "\n",
       "       [[1326, 1359, 1392],\n",
       "        [1686, 1728, 1770],\n",
       "        [2046, 2097, 2148]],\n",
       "\n",
       "       [[2946, 3006, 3066],\n",
       "        [3387, 3456, 3525],\n",
       "        [3828, 3906, 3984]]])"
      ]
     },
     "execution_count": 160,
     "metadata": {},
     "output_type": "execute_result"
    }
   ],
   "source": [
    "np.matmul(np_13,np_14)    # matmul,@ - katta diminsionlar uchun yani 3 va undan ortiq"
   ]
  },
  {
   "cell_type": "code",
   "execution_count": 161,
   "id": "8f87856b",
   "metadata": {
    "scrolled": true
   },
   "outputs": [
    {
     "data": {
      "text/plain": [
       "array([[[ 192,  198,  204],\n",
       "        [ 471,  486,  501],\n",
       "        [ 750,  774,  798]],\n",
       "\n",
       "       [[1326, 1359, 1392],\n",
       "        [1686, 1728, 1770],\n",
       "        [2046, 2097, 2148]],\n",
       "\n",
       "       [[2946, 3006, 3066],\n",
       "        [3387, 3456, 3525],\n",
       "        [3828, 3906, 3984]]])"
      ]
     },
     "execution_count": 161,
     "metadata": {},
     "output_type": "execute_result"
    }
   ],
   "source": [
    "np_13 @ np_14"
   ]
  }
 ],
 "metadata": {
  "kernelspec": {
   "display_name": "Python 3 (ipykernel)",
   "language": "python",
   "name": "python3"
  },
  "language_info": {
   "codemirror_mode": {
    "name": "ipython",
    "version": 3
   },
   "file_extension": ".py",
   "mimetype": "text/x-python",
   "name": "python",
   "nbconvert_exporter": "python",
   "pygments_lexer": "ipython3",
   "version": "3.9.8"
  }
 },
 "nbformat": 4,
 "nbformat_minor": 5
}
